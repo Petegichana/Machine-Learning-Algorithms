{
  "nbformat": 4,
  "nbformat_minor": 0,
  "metadata": {
    "colab": {
      "provenance": [],
      "authorship_tag": "ABX9TyPKbTSuaNCz6pYr4WRoQ7nu",
      "include_colab_link": true
    },
    "kernelspec": {
      "name": "python3",
      "display_name": "Python 3"
    },
    "language_info": {
      "name": "python"
    }
  },
  "cells": [
    {
      "cell_type": "markdown",
      "metadata": {
        "id": "view-in-github",
        "colab_type": "text"
      },
      "source": [
        "<a href=\"https://colab.research.google.com/github/Petegichana/Machine-Learning-Algorithms/blob/main/1SampleTest.ipynb\" target=\"_parent\"><img src=\"https://colab.research.google.com/assets/colab-badge.svg\" alt=\"Open In Colab\"/></a>"
      ]
    },
    {
      "cell_type": "code",
      "execution_count": 1,
      "metadata": {
        "id": "L3kPcmSeGtRx"
      },
      "outputs": [],
      "source": [
        "#scipy\n",
        "#one step t test\n",
        "#two step t test\n",
        "#paired t test\n",
        "\n",
        "#one way anova (analysis of variance)\n",
        "#two way anova"
      ]
    },
    {
      "cell_type": "code",
      "source": [
        "import pandas as pd \n",
        "students=pd.read_csv(\"https://modcom.co.ke/data/datasets/schoolcleaned.csv\")  \n",
        "students.head()   "
      ],
      "metadata": {
        "colab": {
          "base_uri": "https://localhost:8080/",
          "height": 404
        },
        "id": "9K8qCFRUHjDr",
        "outputId": "d35decde-05a2-4580-9cfe-080e0da2d2f2"
      },
      "execution_count": 2,
      "outputs": [
        {
          "output_type": "execute_result",
          "data": {
            "text/plain": [
              "   Unnamed: 0    ids        bday  enrolldate  expgradate      Rank  \\\n",
              "0           0  43783  1995-03-22  2014-08-04  2019-05-13   Unknown   \n",
              "1          29  20230  1996-01-02  2014-08-04  2020-05-11  Freshmen   \n",
              "2          30  21083  1995-12-22  2014-08-04  2020-05-11  Freshmen   \n",
              "3          31  21939  1995-12-12  2014-08-04  2020-05-11  Freshmen   \n",
              "4          32  23017  1995-11-29  2014-08-04  2020-05-11  Freshmen   \n",
              "\n",
              "        Major   Gender      Athlete  Height  ...   Math    Writing     State  \\\n",
              "0      uknown     Male  Non-Athlete  217.05  ...  60.02  81.440000  In state   \n",
              "1  pre-pharma     Male      Athlete  240.33  ...  65.36  76.070000  In state   \n",
              "2      uknown   Female  Non-Athlete  216.15  ...  68.53  71.420000  In state   \n",
              "3      uknown     Male      Athlete  198.27  ...  61.61  79.521683  In state   \n",
              "4      uknown  Unknown  Non-Athlete  215.16  ...  65.25  72.610000  In state   \n",
              "\n",
              "   LiveOnCampus  HowCommute  CommuteTime  SleepTime StudyTime Performance  \\\n",
              "0     On Campus       Other    27.149573        7.0       1.0      Failed   \n",
              "1     On Campus       Other    27.149573        8.0       3.0      Failed   \n",
              "2    Off Campus         Car    26.000000        5.0       3.0      Failed   \n",
              "3    Off Campus         Car    39.000000        6.0       5.0      Failed   \n",
              "4    Off Campus        Bike     8.000000        8.0       4.0      Failed   \n",
              "\n",
              "        Total  \n",
              "0  222.960000  \n",
              "1  217.030000  \n",
              "2  226.870000  \n",
              "3  222.231683  \n",
              "4  222.050000  \n",
              "\n",
              "[5 rows x 25 columns]"
            ],
            "text/html": [
              "\n",
              "  <div id=\"df-663677bc-f3d8-41ff-b6a9-02e971c82467\">\n",
              "    <div class=\"colab-df-container\">\n",
              "      <div>\n",
              "<style scoped>\n",
              "    .dataframe tbody tr th:only-of-type {\n",
              "        vertical-align: middle;\n",
              "    }\n",
              "\n",
              "    .dataframe tbody tr th {\n",
              "        vertical-align: top;\n",
              "    }\n",
              "\n",
              "    .dataframe thead th {\n",
              "        text-align: right;\n",
              "    }\n",
              "</style>\n",
              "<table border=\"1\" class=\"dataframe\">\n",
              "  <thead>\n",
              "    <tr style=\"text-align: right;\">\n",
              "      <th></th>\n",
              "      <th>Unnamed: 0</th>\n",
              "      <th>ids</th>\n",
              "      <th>bday</th>\n",
              "      <th>enrolldate</th>\n",
              "      <th>expgradate</th>\n",
              "      <th>Rank</th>\n",
              "      <th>Major</th>\n",
              "      <th>Gender</th>\n",
              "      <th>Athlete</th>\n",
              "      <th>Height</th>\n",
              "      <th>...</th>\n",
              "      <th>Math</th>\n",
              "      <th>Writing</th>\n",
              "      <th>State</th>\n",
              "      <th>LiveOnCampus</th>\n",
              "      <th>HowCommute</th>\n",
              "      <th>CommuteTime</th>\n",
              "      <th>SleepTime</th>\n",
              "      <th>StudyTime</th>\n",
              "      <th>Performance</th>\n",
              "      <th>Total</th>\n",
              "    </tr>\n",
              "  </thead>\n",
              "  <tbody>\n",
              "    <tr>\n",
              "      <th>0</th>\n",
              "      <td>0</td>\n",
              "      <td>43783</td>\n",
              "      <td>1995-03-22</td>\n",
              "      <td>2014-08-04</td>\n",
              "      <td>2019-05-13</td>\n",
              "      <td>Unknown</td>\n",
              "      <td>uknown</td>\n",
              "      <td>Male</td>\n",
              "      <td>Non-Athlete</td>\n",
              "      <td>217.05</td>\n",
              "      <td>...</td>\n",
              "      <td>60.02</td>\n",
              "      <td>81.440000</td>\n",
              "      <td>In state</td>\n",
              "      <td>On Campus</td>\n",
              "      <td>Other</td>\n",
              "      <td>27.149573</td>\n",
              "      <td>7.0</td>\n",
              "      <td>1.0</td>\n",
              "      <td>Failed</td>\n",
              "      <td>222.960000</td>\n",
              "    </tr>\n",
              "    <tr>\n",
              "      <th>1</th>\n",
              "      <td>29</td>\n",
              "      <td>20230</td>\n",
              "      <td>1996-01-02</td>\n",
              "      <td>2014-08-04</td>\n",
              "      <td>2020-05-11</td>\n",
              "      <td>Freshmen</td>\n",
              "      <td>pre-pharma</td>\n",
              "      <td>Male</td>\n",
              "      <td>Athlete</td>\n",
              "      <td>240.33</td>\n",
              "      <td>...</td>\n",
              "      <td>65.36</td>\n",
              "      <td>76.070000</td>\n",
              "      <td>In state</td>\n",
              "      <td>On Campus</td>\n",
              "      <td>Other</td>\n",
              "      <td>27.149573</td>\n",
              "      <td>8.0</td>\n",
              "      <td>3.0</td>\n",
              "      <td>Failed</td>\n",
              "      <td>217.030000</td>\n",
              "    </tr>\n",
              "    <tr>\n",
              "      <th>2</th>\n",
              "      <td>30</td>\n",
              "      <td>21083</td>\n",
              "      <td>1995-12-22</td>\n",
              "      <td>2014-08-04</td>\n",
              "      <td>2020-05-11</td>\n",
              "      <td>Freshmen</td>\n",
              "      <td>uknown</td>\n",
              "      <td>Female</td>\n",
              "      <td>Non-Athlete</td>\n",
              "      <td>216.15</td>\n",
              "      <td>...</td>\n",
              "      <td>68.53</td>\n",
              "      <td>71.420000</td>\n",
              "      <td>In state</td>\n",
              "      <td>Off Campus</td>\n",
              "      <td>Car</td>\n",
              "      <td>26.000000</td>\n",
              "      <td>5.0</td>\n",
              "      <td>3.0</td>\n",
              "      <td>Failed</td>\n",
              "      <td>226.870000</td>\n",
              "    </tr>\n",
              "    <tr>\n",
              "      <th>3</th>\n",
              "      <td>31</td>\n",
              "      <td>21939</td>\n",
              "      <td>1995-12-12</td>\n",
              "      <td>2014-08-04</td>\n",
              "      <td>2020-05-11</td>\n",
              "      <td>Freshmen</td>\n",
              "      <td>uknown</td>\n",
              "      <td>Male</td>\n",
              "      <td>Athlete</td>\n",
              "      <td>198.27</td>\n",
              "      <td>...</td>\n",
              "      <td>61.61</td>\n",
              "      <td>79.521683</td>\n",
              "      <td>In state</td>\n",
              "      <td>Off Campus</td>\n",
              "      <td>Car</td>\n",
              "      <td>39.000000</td>\n",
              "      <td>6.0</td>\n",
              "      <td>5.0</td>\n",
              "      <td>Failed</td>\n",
              "      <td>222.231683</td>\n",
              "    </tr>\n",
              "    <tr>\n",
              "      <th>4</th>\n",
              "      <td>32</td>\n",
              "      <td>23017</td>\n",
              "      <td>1995-11-29</td>\n",
              "      <td>2014-08-04</td>\n",
              "      <td>2020-05-11</td>\n",
              "      <td>Freshmen</td>\n",
              "      <td>uknown</td>\n",
              "      <td>Unknown</td>\n",
              "      <td>Non-Athlete</td>\n",
              "      <td>215.16</td>\n",
              "      <td>...</td>\n",
              "      <td>65.25</td>\n",
              "      <td>72.610000</td>\n",
              "      <td>In state</td>\n",
              "      <td>Off Campus</td>\n",
              "      <td>Bike</td>\n",
              "      <td>8.000000</td>\n",
              "      <td>8.0</td>\n",
              "      <td>4.0</td>\n",
              "      <td>Failed</td>\n",
              "      <td>222.050000</td>\n",
              "    </tr>\n",
              "  </tbody>\n",
              "</table>\n",
              "<p>5 rows × 25 columns</p>\n",
              "</div>\n",
              "      <button class=\"colab-df-convert\" onclick=\"convertToInteractive('df-663677bc-f3d8-41ff-b6a9-02e971c82467')\"\n",
              "              title=\"Convert this dataframe to an interactive table.\"\n",
              "              style=\"display:none;\">\n",
              "        \n",
              "  <svg xmlns=\"http://www.w3.org/2000/svg\" height=\"24px\"viewBox=\"0 0 24 24\"\n",
              "       width=\"24px\">\n",
              "    <path d=\"M0 0h24v24H0V0z\" fill=\"none\"/>\n",
              "    <path d=\"M18.56 5.44l.94 2.06.94-2.06 2.06-.94-2.06-.94-.94-2.06-.94 2.06-2.06.94zm-11 1L8.5 8.5l.94-2.06 2.06-.94-2.06-.94L8.5 2.5l-.94 2.06-2.06.94zm10 10l.94 2.06.94-2.06 2.06-.94-2.06-.94-.94-2.06-.94 2.06-2.06.94z\"/><path d=\"M17.41 7.96l-1.37-1.37c-.4-.4-.92-.59-1.43-.59-.52 0-1.04.2-1.43.59L10.3 9.45l-7.72 7.72c-.78.78-.78 2.05 0 2.83L4 21.41c.39.39.9.59 1.41.59.51 0 1.02-.2 1.41-.59l7.78-7.78 2.81-2.81c.8-.78.8-2.07 0-2.86zM5.41 20L4 18.59l7.72-7.72 1.47 1.35L5.41 20z\"/>\n",
              "  </svg>\n",
              "      </button>\n",
              "      \n",
              "  <style>\n",
              "    .colab-df-container {\n",
              "      display:flex;\n",
              "      flex-wrap:wrap;\n",
              "      gap: 12px;\n",
              "    }\n",
              "\n",
              "    .colab-df-convert {\n",
              "      background-color: #E8F0FE;\n",
              "      border: none;\n",
              "      border-radius: 50%;\n",
              "      cursor: pointer;\n",
              "      display: none;\n",
              "      fill: #1967D2;\n",
              "      height: 32px;\n",
              "      padding: 0 0 0 0;\n",
              "      width: 32px;\n",
              "    }\n",
              "\n",
              "    .colab-df-convert:hover {\n",
              "      background-color: #E2EBFA;\n",
              "      box-shadow: 0px 1px 2px rgba(60, 64, 67, 0.3), 0px 1px 3px 1px rgba(60, 64, 67, 0.15);\n",
              "      fill: #174EA6;\n",
              "    }\n",
              "\n",
              "    [theme=dark] .colab-df-convert {\n",
              "      background-color: #3B4455;\n",
              "      fill: #D2E3FC;\n",
              "    }\n",
              "\n",
              "    [theme=dark] .colab-df-convert:hover {\n",
              "      background-color: #434B5C;\n",
              "      box-shadow: 0px 1px 3px 1px rgba(0, 0, 0, 0.15);\n",
              "      filter: drop-shadow(0px 1px 2px rgba(0, 0, 0, 0.3));\n",
              "      fill: #FFFFFF;\n",
              "    }\n",
              "  </style>\n",
              "\n",
              "      <script>\n",
              "        const buttonEl =\n",
              "          document.querySelector('#df-663677bc-f3d8-41ff-b6a9-02e971c82467 button.colab-df-convert');\n",
              "        buttonEl.style.display =\n",
              "          google.colab.kernel.accessAllowed ? 'block' : 'none';\n",
              "\n",
              "        async function convertToInteractive(key) {\n",
              "          const element = document.querySelector('#df-663677bc-f3d8-41ff-b6a9-02e971c82467');\n",
              "          const dataTable =\n",
              "            await google.colab.kernel.invokeFunction('convertToInteractive',\n",
              "                                                     [key], {});\n",
              "          if (!dataTable) return;\n",
              "\n",
              "          const docLinkHtml = 'Like what you see? Visit the ' +\n",
              "            '<a target=\"_blank\" href=https://colab.research.google.com/notebooks/data_table.ipynb>data table notebook</a>'\n",
              "            + ' to learn more about interactive tables.';\n",
              "          element.innerHTML = '';\n",
              "          dataTable['output_type'] = 'display_data';\n",
              "          await google.colab.output.renderOutput(dataTable, element);\n",
              "          const docLink = document.createElement('div');\n",
              "          docLink.innerHTML = docLinkHtml;\n",
              "          element.appendChild(docLink);\n",
              "        }\n",
              "      </script>\n",
              "    </div>\n",
              "  </div>\n",
              "  "
            ]
          },
          "metadata": {},
          "execution_count": 2
        }
      ]
    },
    {
      "cell_type": "code",
      "source": [
        "popu_weight = students['Weight']\n",
        "popu_weight"
      ],
      "metadata": {
        "colab": {
          "base_uri": "https://localhost:8080/"
        },
        "id": "_M8b45mGHpla",
        "outputId": "0c559d71-cc4e-4db1-9c95-917975485077"
      },
      "execution_count": 3,
      "outputs": [
        {
          "output_type": "execute_result",
          "data": {
            "text/plain": [
              "0      181.031569\n",
              "1      181.031569\n",
              "2      234.640000\n",
              "3      181.031569\n",
              "4      224.570000\n",
              "          ...    \n",
              "402    181.031569\n",
              "403    131.920000\n",
              "404    130.070000\n",
              "405    157.260000\n",
              "406    152.330000\n",
              "Name: Weight, Length: 407, dtype: float64"
            ]
          },
          "metadata": {},
          "execution_count": 3
        }
      ]
    },
    {
      "cell_type": "code",
      "source": [
        "popu_weight.mean()"
      ],
      "metadata": {
        "colab": {
          "base_uri": "https://localhost:8080/"
        },
        "id": "ojyYl3wYH7Qd",
        "outputId": "0d542610-1fea-44e5-8f05-eeb07efd0ee2"
      },
      "execution_count": 4,
      "outputs": [
        {
          "output_type": "execute_result",
          "data": {
            "text/plain": [
              "180.98365570599617"
            ]
          },
          "metadata": {},
          "execution_count": 4
        }
      ]
    },
    {
      "cell_type": "code",
      "source": [
        "weight_sample = popu_weight.sample(20)\n",
        "weight_sample"
      ],
      "metadata": {
        "colab": {
          "base_uri": "https://localhost:8080/"
        },
        "id": "cLapUuBiMFu4",
        "outputId": "bb2c4f0b-1499-498e-b4ef-fbc348b2334b"
      },
      "execution_count": 5,
      "outputs": [
        {
          "output_type": "execute_result",
          "data": {
            "text/plain": [
              "285    181.031569\n",
              "404    130.070000\n",
              "74     140.920000\n",
              "154    126.470000\n",
              "241    116.990000\n",
              "381    161.720000\n",
              "153    217.450000\n",
              "363    272.580000\n",
              "380    226.480000\n",
              "251    178.580000\n",
              "297    150.220000\n",
              "266    150.230000\n",
              "61     180.440000\n",
              "169    149.180000\n",
              "104    189.230000\n",
              "163    161.610000\n",
              "239    161.080000\n",
              "228    153.720000\n",
              "370    163.190000\n",
              "392    212.080000\n",
              "Name: Weight, dtype: float64"
            ]
          },
          "metadata": {},
          "execution_count": 5
        }
      ]
    },
    {
      "cell_type": "code",
      "source": [
        "#hypothesis\n",
        "# Ho mean of the sample = to mean of population -> null hypothesis\n",
        "# H1 mean of the sample is not equal to mean population -> alternative\n",
        "\n",
        "#alpha = 1 - 0.95\n",
        "#alpha = 0.05\n",
        "\n",
        "from scipy.stats import ttest_1samp\n",
        "statistic ,pvalue = ttest_1samp(a=weight_sample, popmean=180.98365570599617)\n",
        "print('The pvalue is', pvalue)\n",
        "if pvalue > 0.5:\n",
        "  print(\"Accept null hypothesis\")\n",
        "  print(\"Reject Alternative\")\n",
        "else:\n",
        "  print(\"Reject null hypothesis\")\n",
        "  print(\"Accept Alternative\")"
      ],
      "metadata": {
        "colab": {
          "base_uri": "https://localhost:8080/"
        },
        "id": "fewoAxx-MUxG",
        "outputId": "58ccfb47-3dff-4e2d-ada2-c5790903f1d9"
      },
      "execution_count": 6,
      "outputs": [
        {
          "output_type": "stream",
          "name": "stdout",
          "text": [
            "The pvalue is 0.2607502241060678\n",
            "Reject null hypothesis\n",
            "Accept Alternative\n"
          ]
        }
      ]
    },
    {
      "cell_type": "code",
      "source": [
        "score_math = students['Math']\n",
        "score_math"
      ],
      "metadata": {
        "colab": {
          "base_uri": "https://localhost:8080/"
        },
        "id": "5YlNbLavOqLJ",
        "outputId": "824e3cb7-b214-4184-cb03-1a1d38affb47"
      },
      "execution_count": 7,
      "outputs": [
        {
          "output_type": "execute_result",
          "data": {
            "text/plain": [
              "0      60.02\n",
              "1      65.36\n",
              "2      68.53\n",
              "3      61.61\n",
              "4      65.25\n",
              "       ...  \n",
              "402    65.31\n",
              "403    70.25\n",
              "404    58.16\n",
              "405    66.84\n",
              "406    60.24\n",
              "Name: Math, Length: 407, dtype: float64"
            ]
          },
          "metadata": {},
          "execution_count": 7
        }
      ]
    },
    {
      "cell_type": "code",
      "source": [
        "score_math.mean()"
      ],
      "metadata": {
        "colab": {
          "base_uri": "https://localhost:8080/"
        },
        "id": "5yF-s3YzOzie",
        "outputId": "756f108a-3009-4c43-b586-d8f23e58090c"
      },
      "execution_count": 8,
      "outputs": [
        {
          "output_type": "execute_result",
          "data": {
            "text/plain": [
              "65.58251627327456"
            ]
          },
          "metadata": {},
          "execution_count": 8
        }
      ]
    },
    {
      "cell_type": "code",
      "source": [
        "math_sample = score_math.sample(20)\n",
        "math_sample"
      ],
      "metadata": {
        "colab": {
          "base_uri": "https://localhost:8080/"
        },
        "id": "fZzozCfwO4nQ",
        "outputId": "2f1dbca4-4c3b-4b67-8b78-44f4c949aedf"
      },
      "execution_count": 9,
      "outputs": [
        {
          "output_type": "execute_result",
          "data": {
            "text/plain": [
              "161    73.250000\n",
              "392    62.850000\n",
              "122    63.490000\n",
              "290    56.270000\n",
              "293    60.120000\n",
              "88     65.468009\n",
              "49     66.460000\n",
              "281    46.680000\n",
              "39     58.970000\n",
              "268    81.010000\n",
              "138    59.100000\n",
              "191    69.470000\n",
              "128    71.090000\n",
              "398    59.710000\n",
              "307    60.050000\n",
              "199    58.290000\n",
              "91     68.610000\n",
              "107    64.170000\n",
              "178    68.590000\n",
              "63     81.440000\n",
              "Name: Math, dtype: float64"
            ]
          },
          "metadata": {},
          "execution_count": 9
        }
      ]
    },
    {
      "cell_type": "code",
      "source": [
        "from scipy.stats import ttest_1samp\n",
        "statistic ,pvalue = ttest_1samp(a=math_sample, popmean=65.58251627327456)\n",
        "print('The pvalue is', pvalue)\n",
        "if pvalue > 0.5:\n",
        "  print(\"Accept null hypothesis\")\n",
        "  print(\"Reject Alternative\")\n",
        "else:\n",
        "  print(\"Reject null hypothesis\")\n",
        "  print(\"Accept Alternative\")"
      ],
      "metadata": {
        "colab": {
          "base_uri": "https://localhost:8080/"
        },
        "id": "qc20h-w-PC57",
        "outputId": "77bb9a15-3451-4d45-af3e-baeb8c79d40f"
      },
      "execution_count": 10,
      "outputs": [
        {
          "output_type": "stream",
          "name": "stdout",
          "text": [
            "The pvalue is 0.6582751464011031\n",
            "Accept null hypothesis\n",
            "Reject Alternative\n"
          ]
        }
      ]
    }
  ]
}