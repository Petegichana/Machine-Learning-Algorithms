{
  "nbformat": 4,
  "nbformat_minor": 0,
  "metadata": {
    "colab": {
      "provenance": [],
      "authorship_tag": "ABX9TyNYPmQU6fXLL7WEpiyeuKBz",
      "include_colab_link": true
    },
    "kernelspec": {
      "name": "python3",
      "display_name": "Python 3"
    },
    "language_info": {
      "name": "python"
    },
    "widgets": {
      "application/vnd.jupyter.widget-state+json": {
        "2c1297c3f44249f39b6135392cc2af7d": {
          "model_module": "@jupyter-widgets/controls",
          "model_name": "HBoxModel",
          "model_module_version": "1.5.0",
          "state": {
            "_dom_classes": [],
            "_model_module": "@jupyter-widgets/controls",
            "_model_module_version": "1.5.0",
            "_model_name": "HBoxModel",
            "_view_count": null,
            "_view_module": "@jupyter-widgets/controls",
            "_view_module_version": "1.5.0",
            "_view_name": "HBoxView",
            "box_style": "",
            "children": [
              "IPY_MODEL_dbc346d44e7a41d3bc5970a4d3e99670",
              "IPY_MODEL_e1f3f7dc530f4b3fa9eb27b08acc2490",
              "IPY_MODEL_08394561555446729e3cbd9720dc3f89"
            ],
            "layout": "IPY_MODEL_65b10bbc5e1041f4b706479b092843be"
          }
        },
        "dbc346d44e7a41d3bc5970a4d3e99670": {
          "model_module": "@jupyter-widgets/controls",
          "model_name": "HTMLModel",
          "model_module_version": "1.5.0",
          "state": {
            "_dom_classes": [],
            "_model_module": "@jupyter-widgets/controls",
            "_model_module_version": "1.5.0",
            "_model_name": "HTMLModel",
            "_view_count": null,
            "_view_module": "@jupyter-widgets/controls",
            "_view_module_version": "1.5.0",
            "_view_name": "HTMLView",
            "description": "",
            "description_tooltip": null,
            "layout": "IPY_MODEL_c1536abde5f840f3924fbbd31267553b",
            "placeholder": "​",
            "style": "IPY_MODEL_9023d3b179ac4a358ee7a99b999ec114",
            "value": "Downloading (…)olve/main/vocab.json: 100%"
          }
        },
        "e1f3f7dc530f4b3fa9eb27b08acc2490": {
          "model_module": "@jupyter-widgets/controls",
          "model_name": "FloatProgressModel",
          "model_module_version": "1.5.0",
          "state": {
            "_dom_classes": [],
            "_model_module": "@jupyter-widgets/controls",
            "_model_module_version": "1.5.0",
            "_model_name": "FloatProgressModel",
            "_view_count": null,
            "_view_module": "@jupyter-widgets/controls",
            "_view_module_version": "1.5.0",
            "_view_name": "ProgressView",
            "bar_style": "success",
            "description": "",
            "description_tooltip": null,
            "layout": "IPY_MODEL_5710b34c4d2146dab07ecf19be40299c",
            "max": 291,
            "min": 0,
            "orientation": "horizontal",
            "style": "IPY_MODEL_f3d05a06e6f4418cb88b30ca4f311c6c",
            "value": 291
          }
        },
        "08394561555446729e3cbd9720dc3f89": {
          "model_module": "@jupyter-widgets/controls",
          "model_name": "HTMLModel",
          "model_module_version": "1.5.0",
          "state": {
            "_dom_classes": [],
            "_model_module": "@jupyter-widgets/controls",
            "_model_module_version": "1.5.0",
            "_model_name": "HTMLModel",
            "_view_count": null,
            "_view_module": "@jupyter-widgets/controls",
            "_view_module_version": "1.5.0",
            "_view_name": "HTMLView",
            "description": "",
            "description_tooltip": null,
            "layout": "IPY_MODEL_ab17213fcdef4655a9039f72a51d3b37",
            "placeholder": "​",
            "style": "IPY_MODEL_164891777512456692a4ae08c163c97e",
            "value": " 291/291 [00:00&lt;00:00, 5.72kB/s]"
          }
        },
        "65b10bbc5e1041f4b706479b092843be": {
          "model_module": "@jupyter-widgets/base",
          "model_name": "LayoutModel",
          "model_module_version": "1.2.0",
          "state": {
            "_model_module": "@jupyter-widgets/base",
            "_model_module_version": "1.2.0",
            "_model_name": "LayoutModel",
            "_view_count": null,
            "_view_module": "@jupyter-widgets/base",
            "_view_module_version": "1.2.0",
            "_view_name": "LayoutView",
            "align_content": null,
            "align_items": null,
            "align_self": null,
            "border": null,
            "bottom": null,
            "display": null,
            "flex": null,
            "flex_flow": null,
            "grid_area": null,
            "grid_auto_columns": null,
            "grid_auto_flow": null,
            "grid_auto_rows": null,
            "grid_column": null,
            "grid_gap": null,
            "grid_row": null,
            "grid_template_areas": null,
            "grid_template_columns": null,
            "grid_template_rows": null,
            "height": null,
            "justify_content": null,
            "justify_items": null,
            "left": null,
            "margin": null,
            "max_height": null,
            "max_width": null,
            "min_height": null,
            "min_width": null,
            "object_fit": null,
            "object_position": null,
            "order": null,
            "overflow": null,
            "overflow_x": null,
            "overflow_y": null,
            "padding": null,
            "right": null,
            "top": null,
            "visibility": null,
            "width": null
          }
        },
        "c1536abde5f840f3924fbbd31267553b": {
          "model_module": "@jupyter-widgets/base",
          "model_name": "LayoutModel",
          "model_module_version": "1.2.0",
          "state": {
            "_model_module": "@jupyter-widgets/base",
            "_model_module_version": "1.2.0",
            "_model_name": "LayoutModel",
            "_view_count": null,
            "_view_module": "@jupyter-widgets/base",
            "_view_module_version": "1.2.0",
            "_view_name": "LayoutView",
            "align_content": null,
            "align_items": null,
            "align_self": null,
            "border": null,
            "bottom": null,
            "display": null,
            "flex": null,
            "flex_flow": null,
            "grid_area": null,
            "grid_auto_columns": null,
            "grid_auto_flow": null,
            "grid_auto_rows": null,
            "grid_column": null,
            "grid_gap": null,
            "grid_row": null,
            "grid_template_areas": null,
            "grid_template_columns": null,
            "grid_template_rows": null,
            "height": null,
            "justify_content": null,
            "justify_items": null,
            "left": null,
            "margin": null,
            "max_height": null,
            "max_width": null,
            "min_height": null,
            "min_width": null,
            "object_fit": null,
            "object_position": null,
            "order": null,
            "overflow": null,
            "overflow_x": null,
            "overflow_y": null,
            "padding": null,
            "right": null,
            "top": null,
            "visibility": null,
            "width": null
          }
        },
        "9023d3b179ac4a358ee7a99b999ec114": {
          "model_module": "@jupyter-widgets/controls",
          "model_name": "DescriptionStyleModel",
          "model_module_version": "1.5.0",
          "state": {
            "_model_module": "@jupyter-widgets/controls",
            "_model_module_version": "1.5.0",
            "_model_name": "DescriptionStyleModel",
            "_view_count": null,
            "_view_module": "@jupyter-widgets/base",
            "_view_module_version": "1.2.0",
            "_view_name": "StyleView",
            "description_width": ""
          }
        },
        "5710b34c4d2146dab07ecf19be40299c": {
          "model_module": "@jupyter-widgets/base",
          "model_name": "LayoutModel",
          "model_module_version": "1.2.0",
          "state": {
            "_model_module": "@jupyter-widgets/base",
            "_model_module_version": "1.2.0",
            "_model_name": "LayoutModel",
            "_view_count": null,
            "_view_module": "@jupyter-widgets/base",
            "_view_module_version": "1.2.0",
            "_view_name": "LayoutView",
            "align_content": null,
            "align_items": null,
            "align_self": null,
            "border": null,
            "bottom": null,
            "display": null,
            "flex": null,
            "flex_flow": null,
            "grid_area": null,
            "grid_auto_columns": null,
            "grid_auto_flow": null,
            "grid_auto_rows": null,
            "grid_column": null,
            "grid_gap": null,
            "grid_row": null,
            "grid_template_areas": null,
            "grid_template_columns": null,
            "grid_template_rows": null,
            "height": null,
            "justify_content": null,
            "justify_items": null,
            "left": null,
            "margin": null,
            "max_height": null,
            "max_width": null,
            "min_height": null,
            "min_width": null,
            "object_fit": null,
            "object_position": null,
            "order": null,
            "overflow": null,
            "overflow_x": null,
            "overflow_y": null,
            "padding": null,
            "right": null,
            "top": null,
            "visibility": null,
            "width": null
          }
        },
        "f3d05a06e6f4418cb88b30ca4f311c6c": {
          "model_module": "@jupyter-widgets/controls",
          "model_name": "ProgressStyleModel",
          "model_module_version": "1.5.0",
          "state": {
            "_model_module": "@jupyter-widgets/controls",
            "_model_module_version": "1.5.0",
            "_model_name": "ProgressStyleModel",
            "_view_count": null,
            "_view_module": "@jupyter-widgets/base",
            "_view_module_version": "1.2.0",
            "_view_name": "StyleView",
            "bar_color": null,
            "description_width": ""
          }
        },
        "ab17213fcdef4655a9039f72a51d3b37": {
          "model_module": "@jupyter-widgets/base",
          "model_name": "LayoutModel",
          "model_module_version": "1.2.0",
          "state": {
            "_model_module": "@jupyter-widgets/base",
            "_model_module_version": "1.2.0",
            "_model_name": "LayoutModel",
            "_view_count": null,
            "_view_module": "@jupyter-widgets/base",
            "_view_module_version": "1.2.0",
            "_view_name": "LayoutView",
            "align_content": null,
            "align_items": null,
            "align_self": null,
            "border": null,
            "bottom": null,
            "display": null,
            "flex": null,
            "flex_flow": null,
            "grid_area": null,
            "grid_auto_columns": null,
            "grid_auto_flow": null,
            "grid_auto_rows": null,
            "grid_column": null,
            "grid_gap": null,
            "grid_row": null,
            "grid_template_areas": null,
            "grid_template_columns": null,
            "grid_template_rows": null,
            "height": null,
            "justify_content": null,
            "justify_items": null,
            "left": null,
            "margin": null,
            "max_height": null,
            "max_width": null,
            "min_height": null,
            "min_width": null,
            "object_fit": null,
            "object_position": null,
            "order": null,
            "overflow": null,
            "overflow_x": null,
            "overflow_y": null,
            "padding": null,
            "right": null,
            "top": null,
            "visibility": null,
            "width": null
          }
        },
        "164891777512456692a4ae08c163c97e": {
          "model_module": "@jupyter-widgets/controls",
          "model_name": "DescriptionStyleModel",
          "model_module_version": "1.5.0",
          "state": {
            "_model_module": "@jupyter-widgets/controls",
            "_model_module_version": "1.5.0",
            "_model_name": "DescriptionStyleModel",
            "_view_count": null,
            "_view_module": "@jupyter-widgets/base",
            "_view_module_version": "1.2.0",
            "_view_name": "StyleView",
            "description_width": ""
          }
        },
        "348c0e8cb83649758f401b67af33de73": {
          "model_module": "@jupyter-widgets/controls",
          "model_name": "HBoxModel",
          "model_module_version": "1.5.0",
          "state": {
            "_dom_classes": [],
            "_model_module": "@jupyter-widgets/controls",
            "_model_module_version": "1.5.0",
            "_model_name": "HBoxModel",
            "_view_count": null,
            "_view_module": "@jupyter-widgets/controls",
            "_view_module_version": "1.5.0",
            "_view_name": "HBoxView",
            "box_style": "",
            "children": [
              "IPY_MODEL_3f6aa38119344891a67303ff674b9534",
              "IPY_MODEL_a18389a903f34bcb8bf22877d2e489b9",
              "IPY_MODEL_3478fe79982042bf824a5de35f41bbd2"
            ],
            "layout": "IPY_MODEL_c1a8708936fa41b4a74e3c09c07ee483"
          }
        },
        "3f6aa38119344891a67303ff674b9534": {
          "model_module": "@jupyter-widgets/controls",
          "model_name": "HTMLModel",
          "model_module_version": "1.5.0",
          "state": {
            "_dom_classes": [],
            "_model_module": "@jupyter-widgets/controls",
            "_model_module_version": "1.5.0",
            "_model_name": "HTMLModel",
            "_view_count": null,
            "_view_module": "@jupyter-widgets/controls",
            "_view_module_version": "1.5.0",
            "_view_name": "HTMLView",
            "description": "",
            "description_tooltip": null,
            "layout": "IPY_MODEL_5a4428393a2c4430ab3b5bb1843a18e5",
            "placeholder": "​",
            "style": "IPY_MODEL_f542b174b8e340409569d6c0b1431ed7",
            "value": "Downloading (…)okenizer_config.json: 100%"
          }
        },
        "a18389a903f34bcb8bf22877d2e489b9": {
          "model_module": "@jupyter-widgets/controls",
          "model_name": "FloatProgressModel",
          "model_module_version": "1.5.0",
          "state": {
            "_dom_classes": [],
            "_model_module": "@jupyter-widgets/controls",
            "_model_module_version": "1.5.0",
            "_model_name": "FloatProgressModel",
            "_view_count": null,
            "_view_module": "@jupyter-widgets/controls",
            "_view_module_version": "1.5.0",
            "_view_name": "ProgressView",
            "bar_style": "success",
            "description": "",
            "description_tooltip": null,
            "layout": "IPY_MODEL_ae47e7fd12bf4a259325b06f6c0ca5d2",
            "max": 163,
            "min": 0,
            "orientation": "horizontal",
            "style": "IPY_MODEL_2d6ab2e439e94d1e818356ec49db44e2",
            "value": 163
          }
        },
        "3478fe79982042bf824a5de35f41bbd2": {
          "model_module": "@jupyter-widgets/controls",
          "model_name": "HTMLModel",
          "model_module_version": "1.5.0",
          "state": {
            "_dom_classes": [],
            "_model_module": "@jupyter-widgets/controls",
            "_model_module_version": "1.5.0",
            "_model_name": "HTMLModel",
            "_view_count": null,
            "_view_module": "@jupyter-widgets/controls",
            "_view_module_version": "1.5.0",
            "_view_name": "HTMLView",
            "description": "",
            "description_tooltip": null,
            "layout": "IPY_MODEL_92aa310e720d442daa90daf94f9847e2",
            "placeholder": "​",
            "style": "IPY_MODEL_24a43464e8414bb888555524529969ba",
            "value": " 163/163 [00:00&lt;00:00, 5.06kB/s]"
          }
        },
        "c1a8708936fa41b4a74e3c09c07ee483": {
          "model_module": "@jupyter-widgets/base",
          "model_name": "LayoutModel",
          "model_module_version": "1.2.0",
          "state": {
            "_model_module": "@jupyter-widgets/base",
            "_model_module_version": "1.2.0",
            "_model_name": "LayoutModel",
            "_view_count": null,
            "_view_module": "@jupyter-widgets/base",
            "_view_module_version": "1.2.0",
            "_view_name": "LayoutView",
            "align_content": null,
            "align_items": null,
            "align_self": null,
            "border": null,
            "bottom": null,
            "display": null,
            "flex": null,
            "flex_flow": null,
            "grid_area": null,
            "grid_auto_columns": null,
            "grid_auto_flow": null,
            "grid_auto_rows": null,
            "grid_column": null,
            "grid_gap": null,
            "grid_row": null,
            "grid_template_areas": null,
            "grid_template_columns": null,
            "grid_template_rows": null,
            "height": null,
            "justify_content": null,
            "justify_items": null,
            "left": null,
            "margin": null,
            "max_height": null,
            "max_width": null,
            "min_height": null,
            "min_width": null,
            "object_fit": null,
            "object_position": null,
            "order": null,
            "overflow": null,
            "overflow_x": null,
            "overflow_y": null,
            "padding": null,
            "right": null,
            "top": null,
            "visibility": null,
            "width": null
          }
        },
        "5a4428393a2c4430ab3b5bb1843a18e5": {
          "model_module": "@jupyter-widgets/base",
          "model_name": "LayoutModel",
          "model_module_version": "1.2.0",
          "state": {
            "_model_module": "@jupyter-widgets/base",
            "_model_module_version": "1.2.0",
            "_model_name": "LayoutModel",
            "_view_count": null,
            "_view_module": "@jupyter-widgets/base",
            "_view_module_version": "1.2.0",
            "_view_name": "LayoutView",
            "align_content": null,
            "align_items": null,
            "align_self": null,
            "border": null,
            "bottom": null,
            "display": null,
            "flex": null,
            "flex_flow": null,
            "grid_area": null,
            "grid_auto_columns": null,
            "grid_auto_flow": null,
            "grid_auto_rows": null,
            "grid_column": null,
            "grid_gap": null,
            "grid_row": null,
            "grid_template_areas": null,
            "grid_template_columns": null,
            "grid_template_rows": null,
            "height": null,
            "justify_content": null,
            "justify_items": null,
            "left": null,
            "margin": null,
            "max_height": null,
            "max_width": null,
            "min_height": null,
            "min_width": null,
            "object_fit": null,
            "object_position": null,
            "order": null,
            "overflow": null,
            "overflow_x": null,
            "overflow_y": null,
            "padding": null,
            "right": null,
            "top": null,
            "visibility": null,
            "width": null
          }
        },
        "f542b174b8e340409569d6c0b1431ed7": {
          "model_module": "@jupyter-widgets/controls",
          "model_name": "DescriptionStyleModel",
          "model_module_version": "1.5.0",
          "state": {
            "_model_module": "@jupyter-widgets/controls",
            "_model_module_version": "1.5.0",
            "_model_name": "DescriptionStyleModel",
            "_view_count": null,
            "_view_module": "@jupyter-widgets/base",
            "_view_module_version": "1.2.0",
            "_view_name": "StyleView",
            "description_width": ""
          }
        },
        "ae47e7fd12bf4a259325b06f6c0ca5d2": {
          "model_module": "@jupyter-widgets/base",
          "model_name": "LayoutModel",
          "model_module_version": "1.2.0",
          "state": {
            "_model_module": "@jupyter-widgets/base",
            "_model_module_version": "1.2.0",
            "_model_name": "LayoutModel",
            "_view_count": null,
            "_view_module": "@jupyter-widgets/base",
            "_view_module_version": "1.2.0",
            "_view_name": "LayoutView",
            "align_content": null,
            "align_items": null,
            "align_self": null,
            "border": null,
            "bottom": null,
            "display": null,
            "flex": null,
            "flex_flow": null,
            "grid_area": null,
            "grid_auto_columns": null,
            "grid_auto_flow": null,
            "grid_auto_rows": null,
            "grid_column": null,
            "grid_gap": null,
            "grid_row": null,
            "grid_template_areas": null,
            "grid_template_columns": null,
            "grid_template_rows": null,
            "height": null,
            "justify_content": null,
            "justify_items": null,
            "left": null,
            "margin": null,
            "max_height": null,
            "max_width": null,
            "min_height": null,
            "min_width": null,
            "object_fit": null,
            "object_position": null,
            "order": null,
            "overflow": null,
            "overflow_x": null,
            "overflow_y": null,
            "padding": null,
            "right": null,
            "top": null,
            "visibility": null,
            "width": null
          }
        },
        "2d6ab2e439e94d1e818356ec49db44e2": {
          "model_module": "@jupyter-widgets/controls",
          "model_name": "ProgressStyleModel",
          "model_module_version": "1.5.0",
          "state": {
            "_model_module": "@jupyter-widgets/controls",
            "_model_module_version": "1.5.0",
            "_model_name": "ProgressStyleModel",
            "_view_count": null,
            "_view_module": "@jupyter-widgets/base",
            "_view_module_version": "1.2.0",
            "_view_name": "StyleView",
            "bar_color": null,
            "description_width": ""
          }
        },
        "92aa310e720d442daa90daf94f9847e2": {
          "model_module": "@jupyter-widgets/base",
          "model_name": "LayoutModel",
          "model_module_version": "1.2.0",
          "state": {
            "_model_module": "@jupyter-widgets/base",
            "_model_module_version": "1.2.0",
            "_model_name": "LayoutModel",
            "_view_count": null,
            "_view_module": "@jupyter-widgets/base",
            "_view_module_version": "1.2.0",
            "_view_name": "LayoutView",
            "align_content": null,
            "align_items": null,
            "align_self": null,
            "border": null,
            "bottom": null,
            "display": null,
            "flex": null,
            "flex_flow": null,
            "grid_area": null,
            "grid_auto_columns": null,
            "grid_auto_flow": null,
            "grid_auto_rows": null,
            "grid_column": null,
            "grid_gap": null,
            "grid_row": null,
            "grid_template_areas": null,
            "grid_template_columns": null,
            "grid_template_rows": null,
            "height": null,
            "justify_content": null,
            "justify_items": null,
            "left": null,
            "margin": null,
            "max_height": null,
            "max_width": null,
            "min_height": null,
            "min_width": null,
            "object_fit": null,
            "object_position": null,
            "order": null,
            "overflow": null,
            "overflow_x": null,
            "overflow_y": null,
            "padding": null,
            "right": null,
            "top": null,
            "visibility": null,
            "width": null
          }
        },
        "24a43464e8414bb888555524529969ba": {
          "model_module": "@jupyter-widgets/controls",
          "model_name": "DescriptionStyleModel",
          "model_module_version": "1.5.0",
          "state": {
            "_model_module": "@jupyter-widgets/controls",
            "_model_module_version": "1.5.0",
            "_model_name": "DescriptionStyleModel",
            "_view_count": null,
            "_view_module": "@jupyter-widgets/base",
            "_view_module_version": "1.2.0",
            "_view_name": "StyleView",
            "description_width": ""
          }
        },
        "b58e50fd37a6457abeebf2cdcd0f9ac3": {
          "model_module": "@jupyter-widgets/controls",
          "model_name": "HBoxModel",
          "model_module_version": "1.5.0",
          "state": {
            "_dom_classes": [],
            "_model_module": "@jupyter-widgets/controls",
            "_model_module_version": "1.5.0",
            "_model_name": "HBoxModel",
            "_view_count": null,
            "_view_module": "@jupyter-widgets/controls",
            "_view_module_version": "1.5.0",
            "_view_name": "HBoxView",
            "box_style": "",
            "children": [
              "IPY_MODEL_bbb24f56172a450989e8b263da57344a",
              "IPY_MODEL_dea82673316c405992de718061c6437d",
              "IPY_MODEL_6815c7ed717841c49c9d025e58cd3826"
            ],
            "layout": "IPY_MODEL_7c0e0fa539f746b596d9bb5e03467ffe"
          }
        },
        "bbb24f56172a450989e8b263da57344a": {
          "model_module": "@jupyter-widgets/controls",
          "model_name": "HTMLModel",
          "model_module_version": "1.5.0",
          "state": {
            "_dom_classes": [],
            "_model_module": "@jupyter-widgets/controls",
            "_model_module_version": "1.5.0",
            "_model_name": "HTMLModel",
            "_view_count": null,
            "_view_module": "@jupyter-widgets/controls",
            "_view_module_version": "1.5.0",
            "_view_name": "HTMLView",
            "description": "",
            "description_tooltip": null,
            "layout": "IPY_MODEL_e4aea2bddd2048789d1e9f8aeb10662e",
            "placeholder": "​",
            "style": "IPY_MODEL_f1b8d12085ae479a9a4aaf19aee0d298",
            "value": "Downloading (…)cial_tokens_map.json: 100%"
          }
        },
        "dea82673316c405992de718061c6437d": {
          "model_module": "@jupyter-widgets/controls",
          "model_name": "FloatProgressModel",
          "model_module_version": "1.5.0",
          "state": {
            "_dom_classes": [],
            "_model_module": "@jupyter-widgets/controls",
            "_model_module_version": "1.5.0",
            "_model_name": "FloatProgressModel",
            "_view_count": null,
            "_view_module": "@jupyter-widgets/controls",
            "_view_module_version": "1.5.0",
            "_view_name": "ProgressView",
            "bar_style": "success",
            "description": "",
            "description_tooltip": null,
            "layout": "IPY_MODEL_9fc7e865e44e4d34ac9d77f7f727bbc8",
            "max": 85,
            "min": 0,
            "orientation": "horizontal",
            "style": "IPY_MODEL_183eb321dece415a966ce01f4682f068",
            "value": 85
          }
        },
        "6815c7ed717841c49c9d025e58cd3826": {
          "model_module": "@jupyter-widgets/controls",
          "model_name": "HTMLModel",
          "model_module_version": "1.5.0",
          "state": {
            "_dom_classes": [],
            "_model_module": "@jupyter-widgets/controls",
            "_model_module_version": "1.5.0",
            "_model_name": "HTMLModel",
            "_view_count": null,
            "_view_module": "@jupyter-widgets/controls",
            "_view_module_version": "1.5.0",
            "_view_name": "HTMLView",
            "description": "",
            "description_tooltip": null,
            "layout": "IPY_MODEL_e298e0aba64c4251bb1c7b9676f9baf4",
            "placeholder": "​",
            "style": "IPY_MODEL_ffba0ab7db2b4351af4d82ffa0fa2f02",
            "value": " 85.0/85.0 [00:00&lt;00:00, 2.75kB/s]"
          }
        },
        "7c0e0fa539f746b596d9bb5e03467ffe": {
          "model_module": "@jupyter-widgets/base",
          "model_name": "LayoutModel",
          "model_module_version": "1.2.0",
          "state": {
            "_model_module": "@jupyter-widgets/base",
            "_model_module_version": "1.2.0",
            "_model_name": "LayoutModel",
            "_view_count": null,
            "_view_module": "@jupyter-widgets/base",
            "_view_module_version": "1.2.0",
            "_view_name": "LayoutView",
            "align_content": null,
            "align_items": null,
            "align_self": null,
            "border": null,
            "bottom": null,
            "display": null,
            "flex": null,
            "flex_flow": null,
            "grid_area": null,
            "grid_auto_columns": null,
            "grid_auto_flow": null,
            "grid_auto_rows": null,
            "grid_column": null,
            "grid_gap": null,
            "grid_row": null,
            "grid_template_areas": null,
            "grid_template_columns": null,
            "grid_template_rows": null,
            "height": null,
            "justify_content": null,
            "justify_items": null,
            "left": null,
            "margin": null,
            "max_height": null,
            "max_width": null,
            "min_height": null,
            "min_width": null,
            "object_fit": null,
            "object_position": null,
            "order": null,
            "overflow": null,
            "overflow_x": null,
            "overflow_y": null,
            "padding": null,
            "right": null,
            "top": null,
            "visibility": null,
            "width": null
          }
        },
        "e4aea2bddd2048789d1e9f8aeb10662e": {
          "model_module": "@jupyter-widgets/base",
          "model_name": "LayoutModel",
          "model_module_version": "1.2.0",
          "state": {
            "_model_module": "@jupyter-widgets/base",
            "_model_module_version": "1.2.0",
            "_model_name": "LayoutModel",
            "_view_count": null,
            "_view_module": "@jupyter-widgets/base",
            "_view_module_version": "1.2.0",
            "_view_name": "LayoutView",
            "align_content": null,
            "align_items": null,
            "align_self": null,
            "border": null,
            "bottom": null,
            "display": null,
            "flex": null,
            "flex_flow": null,
            "grid_area": null,
            "grid_auto_columns": null,
            "grid_auto_flow": null,
            "grid_auto_rows": null,
            "grid_column": null,
            "grid_gap": null,
            "grid_row": null,
            "grid_template_areas": null,
            "grid_template_columns": null,
            "grid_template_rows": null,
            "height": null,
            "justify_content": null,
            "justify_items": null,
            "left": null,
            "margin": null,
            "max_height": null,
            "max_width": null,
            "min_height": null,
            "min_width": null,
            "object_fit": null,
            "object_position": null,
            "order": null,
            "overflow": null,
            "overflow_x": null,
            "overflow_y": null,
            "padding": null,
            "right": null,
            "top": null,
            "visibility": null,
            "width": null
          }
        },
        "f1b8d12085ae479a9a4aaf19aee0d298": {
          "model_module": "@jupyter-widgets/controls",
          "model_name": "DescriptionStyleModel",
          "model_module_version": "1.5.0",
          "state": {
            "_model_module": "@jupyter-widgets/controls",
            "_model_module_version": "1.5.0",
            "_model_name": "DescriptionStyleModel",
            "_view_count": null,
            "_view_module": "@jupyter-widgets/base",
            "_view_module_version": "1.2.0",
            "_view_name": "StyleView",
            "description_width": ""
          }
        },
        "9fc7e865e44e4d34ac9d77f7f727bbc8": {
          "model_module": "@jupyter-widgets/base",
          "model_name": "LayoutModel",
          "model_module_version": "1.2.0",
          "state": {
            "_model_module": "@jupyter-widgets/base",
            "_model_module_version": "1.2.0",
            "_model_name": "LayoutModel",
            "_view_count": null,
            "_view_module": "@jupyter-widgets/base",
            "_view_module_version": "1.2.0",
            "_view_name": "LayoutView",
            "align_content": null,
            "align_items": null,
            "align_self": null,
            "border": null,
            "bottom": null,
            "display": null,
            "flex": null,
            "flex_flow": null,
            "grid_area": null,
            "grid_auto_columns": null,
            "grid_auto_flow": null,
            "grid_auto_rows": null,
            "grid_column": null,
            "grid_gap": null,
            "grid_row": null,
            "grid_template_areas": null,
            "grid_template_columns": null,
            "grid_template_rows": null,
            "height": null,
            "justify_content": null,
            "justify_items": null,
            "left": null,
            "margin": null,
            "max_height": null,
            "max_width": null,
            "min_height": null,
            "min_width": null,
            "object_fit": null,
            "object_position": null,
            "order": null,
            "overflow": null,
            "overflow_x": null,
            "overflow_y": null,
            "padding": null,
            "right": null,
            "top": null,
            "visibility": null,
            "width": null
          }
        },
        "183eb321dece415a966ce01f4682f068": {
          "model_module": "@jupyter-widgets/controls",
          "model_name": "ProgressStyleModel",
          "model_module_version": "1.5.0",
          "state": {
            "_model_module": "@jupyter-widgets/controls",
            "_model_module_version": "1.5.0",
            "_model_name": "ProgressStyleModel",
            "_view_count": null,
            "_view_module": "@jupyter-widgets/base",
            "_view_module_version": "1.2.0",
            "_view_name": "StyleView",
            "bar_color": null,
            "description_width": ""
          }
        },
        "e298e0aba64c4251bb1c7b9676f9baf4": {
          "model_module": "@jupyter-widgets/base",
          "model_name": "LayoutModel",
          "model_module_version": "1.2.0",
          "state": {
            "_model_module": "@jupyter-widgets/base",
            "_model_module_version": "1.2.0",
            "_model_name": "LayoutModel",
            "_view_count": null,
            "_view_module": "@jupyter-widgets/base",
            "_view_module_version": "1.2.0",
            "_view_name": "LayoutView",
            "align_content": null,
            "align_items": null,
            "align_self": null,
            "border": null,
            "bottom": null,
            "display": null,
            "flex": null,
            "flex_flow": null,
            "grid_area": null,
            "grid_auto_columns": null,
            "grid_auto_flow": null,
            "grid_auto_rows": null,
            "grid_column": null,
            "grid_gap": null,
            "grid_row": null,
            "grid_template_areas": null,
            "grid_template_columns": null,
            "grid_template_rows": null,
            "height": null,
            "justify_content": null,
            "justify_items": null,
            "left": null,
            "margin": null,
            "max_height": null,
            "max_width": null,
            "min_height": null,
            "min_width": null,
            "object_fit": null,
            "object_position": null,
            "order": null,
            "overflow": null,
            "overflow_x": null,
            "overflow_y": null,
            "padding": null,
            "right": null,
            "top": null,
            "visibility": null,
            "width": null
          }
        },
        "ffba0ab7db2b4351af4d82ffa0fa2f02": {
          "model_module": "@jupyter-widgets/controls",
          "model_name": "DescriptionStyleModel",
          "model_module_version": "1.5.0",
          "state": {
            "_model_module": "@jupyter-widgets/controls",
            "_model_module_version": "1.5.0",
            "_model_name": "DescriptionStyleModel",
            "_view_count": null,
            "_view_module": "@jupyter-widgets/base",
            "_view_module_version": "1.2.0",
            "_view_name": "StyleView",
            "description_width": ""
          }
        },
        "0dc00a5cac0d44499728815b847c0803": {
          "model_module": "@jupyter-widgets/controls",
          "model_name": "HBoxModel",
          "model_module_version": "1.5.0",
          "state": {
            "_dom_classes": [],
            "_model_module": "@jupyter-widgets/controls",
            "_model_module_version": "1.5.0",
            "_model_name": "HBoxModel",
            "_view_count": null,
            "_view_module": "@jupyter-widgets/controls",
            "_view_module_version": "1.5.0",
            "_view_name": "HBoxView",
            "box_style": "",
            "children": [
              "IPY_MODEL_e35813fa84fe44a89c6c019db316928a",
              "IPY_MODEL_e2be530d0f3e43f5a9ae5f6534c9cc8b",
              "IPY_MODEL_6e56d3fcd378493ba28a3acebd1e98d4"
            ],
            "layout": "IPY_MODEL_1812786075774a08aa16d63d5649a53f"
          }
        },
        "e35813fa84fe44a89c6c019db316928a": {
          "model_module": "@jupyter-widgets/controls",
          "model_name": "HTMLModel",
          "model_module_version": "1.5.0",
          "state": {
            "_dom_classes": [],
            "_model_module": "@jupyter-widgets/controls",
            "_model_module_version": "1.5.0",
            "_model_name": "HTMLModel",
            "_view_count": null,
            "_view_module": "@jupyter-widgets/controls",
            "_view_module_version": "1.5.0",
            "_view_name": "HTMLView",
            "description": "",
            "description_tooltip": null,
            "layout": "IPY_MODEL_fe823a4a0e87493285afe671c81647e0",
            "placeholder": "​",
            "style": "IPY_MODEL_fcfc5449f0fc4126839a290a066d6587",
            "value": "Downloading (…)lve/main/config.json: 100%"
          }
        },
        "e2be530d0f3e43f5a9ae5f6534c9cc8b": {
          "model_module": "@jupyter-widgets/controls",
          "model_name": "FloatProgressModel",
          "model_module_version": "1.5.0",
          "state": {
            "_dom_classes": [],
            "_model_module": "@jupyter-widgets/controls",
            "_model_module_version": "1.5.0",
            "_model_name": "FloatProgressModel",
            "_view_count": null,
            "_view_module": "@jupyter-widgets/controls",
            "_view_module_version": "1.5.0",
            "_view_name": "ProgressView",
            "bar_style": "success",
            "description": "",
            "description_tooltip": null,
            "layout": "IPY_MODEL_b91d719f067440eb8dbc23c811cb609f",
            "max": 1596,
            "min": 0,
            "orientation": "horizontal",
            "style": "IPY_MODEL_491b9a7250a84751972e043244224ce7",
            "value": 1596
          }
        },
        "6e56d3fcd378493ba28a3acebd1e98d4": {
          "model_module": "@jupyter-widgets/controls",
          "model_name": "HTMLModel",
          "model_module_version": "1.5.0",
          "state": {
            "_dom_classes": [],
            "_model_module": "@jupyter-widgets/controls",
            "_model_module_version": "1.5.0",
            "_model_name": "HTMLModel",
            "_view_count": null,
            "_view_module": "@jupyter-widgets/controls",
            "_view_module_version": "1.5.0",
            "_view_name": "HTMLView",
            "description": "",
            "description_tooltip": null,
            "layout": "IPY_MODEL_e972be2038d74ae3bb548664cf7d5a0b",
            "placeholder": "​",
            "style": "IPY_MODEL_e63ef0980f564ce69080357705943d9f",
            "value": " 1.60k/1.60k [00:00&lt;00:00, 67.6kB/s]"
          }
        },
        "1812786075774a08aa16d63d5649a53f": {
          "model_module": "@jupyter-widgets/base",
          "model_name": "LayoutModel",
          "model_module_version": "1.2.0",
          "state": {
            "_model_module": "@jupyter-widgets/base",
            "_model_module_version": "1.2.0",
            "_model_name": "LayoutModel",
            "_view_count": null,
            "_view_module": "@jupyter-widgets/base",
            "_view_module_version": "1.2.0",
            "_view_name": "LayoutView",
            "align_content": null,
            "align_items": null,
            "align_self": null,
            "border": null,
            "bottom": null,
            "display": null,
            "flex": null,
            "flex_flow": null,
            "grid_area": null,
            "grid_auto_columns": null,
            "grid_auto_flow": null,
            "grid_auto_rows": null,
            "grid_column": null,
            "grid_gap": null,
            "grid_row": null,
            "grid_template_areas": null,
            "grid_template_columns": null,
            "grid_template_rows": null,
            "height": null,
            "justify_content": null,
            "justify_items": null,
            "left": null,
            "margin": null,
            "max_height": null,
            "max_width": null,
            "min_height": null,
            "min_width": null,
            "object_fit": null,
            "object_position": null,
            "order": null,
            "overflow": null,
            "overflow_x": null,
            "overflow_y": null,
            "padding": null,
            "right": null,
            "top": null,
            "visibility": null,
            "width": null
          }
        },
        "fe823a4a0e87493285afe671c81647e0": {
          "model_module": "@jupyter-widgets/base",
          "model_name": "LayoutModel",
          "model_module_version": "1.2.0",
          "state": {
            "_model_module": "@jupyter-widgets/base",
            "_model_module_version": "1.2.0",
            "_model_name": "LayoutModel",
            "_view_count": null,
            "_view_module": "@jupyter-widgets/base",
            "_view_module_version": "1.2.0",
            "_view_name": "LayoutView",
            "align_content": null,
            "align_items": null,
            "align_self": null,
            "border": null,
            "bottom": null,
            "display": null,
            "flex": null,
            "flex_flow": null,
            "grid_area": null,
            "grid_auto_columns": null,
            "grid_auto_flow": null,
            "grid_auto_rows": null,
            "grid_column": null,
            "grid_gap": null,
            "grid_row": null,
            "grid_template_areas": null,
            "grid_template_columns": null,
            "grid_template_rows": null,
            "height": null,
            "justify_content": null,
            "justify_items": null,
            "left": null,
            "margin": null,
            "max_height": null,
            "max_width": null,
            "min_height": null,
            "min_width": null,
            "object_fit": null,
            "object_position": null,
            "order": null,
            "overflow": null,
            "overflow_x": null,
            "overflow_y": null,
            "padding": null,
            "right": null,
            "top": null,
            "visibility": null,
            "width": null
          }
        },
        "fcfc5449f0fc4126839a290a066d6587": {
          "model_module": "@jupyter-widgets/controls",
          "model_name": "DescriptionStyleModel",
          "model_module_version": "1.5.0",
          "state": {
            "_model_module": "@jupyter-widgets/controls",
            "_model_module_version": "1.5.0",
            "_model_name": "DescriptionStyleModel",
            "_view_count": null,
            "_view_module": "@jupyter-widgets/base",
            "_view_module_version": "1.2.0",
            "_view_name": "StyleView",
            "description_width": ""
          }
        },
        "b91d719f067440eb8dbc23c811cb609f": {
          "model_module": "@jupyter-widgets/base",
          "model_name": "LayoutModel",
          "model_module_version": "1.2.0",
          "state": {
            "_model_module": "@jupyter-widgets/base",
            "_model_module_version": "1.2.0",
            "_model_name": "LayoutModel",
            "_view_count": null,
            "_view_module": "@jupyter-widgets/base",
            "_view_module_version": "1.2.0",
            "_view_name": "LayoutView",
            "align_content": null,
            "align_items": null,
            "align_self": null,
            "border": null,
            "bottom": null,
            "display": null,
            "flex": null,
            "flex_flow": null,
            "grid_area": null,
            "grid_auto_columns": null,
            "grid_auto_flow": null,
            "grid_auto_rows": null,
            "grid_column": null,
            "grid_gap": null,
            "grid_row": null,
            "grid_template_areas": null,
            "grid_template_columns": null,
            "grid_template_rows": null,
            "height": null,
            "justify_content": null,
            "justify_items": null,
            "left": null,
            "margin": null,
            "max_height": null,
            "max_width": null,
            "min_height": null,
            "min_width": null,
            "object_fit": null,
            "object_position": null,
            "order": null,
            "overflow": null,
            "overflow_x": null,
            "overflow_y": null,
            "padding": null,
            "right": null,
            "top": null,
            "visibility": null,
            "width": null
          }
        },
        "491b9a7250a84751972e043244224ce7": {
          "model_module": "@jupyter-widgets/controls",
          "model_name": "ProgressStyleModel",
          "model_module_version": "1.5.0",
          "state": {
            "_model_module": "@jupyter-widgets/controls",
            "_model_module_version": "1.5.0",
            "_model_name": "ProgressStyleModel",
            "_view_count": null,
            "_view_module": "@jupyter-widgets/base",
            "_view_module_version": "1.2.0",
            "_view_name": "StyleView",
            "bar_color": null,
            "description_width": ""
          }
        },
        "e972be2038d74ae3bb548664cf7d5a0b": {
          "model_module": "@jupyter-widgets/base",
          "model_name": "LayoutModel",
          "model_module_version": "1.2.0",
          "state": {
            "_model_module": "@jupyter-widgets/base",
            "_model_module_version": "1.2.0",
            "_model_name": "LayoutModel",
            "_view_count": null,
            "_view_module": "@jupyter-widgets/base",
            "_view_module_version": "1.2.0",
            "_view_name": "LayoutView",
            "align_content": null,
            "align_items": null,
            "align_self": null,
            "border": null,
            "bottom": null,
            "display": null,
            "flex": null,
            "flex_flow": null,
            "grid_area": null,
            "grid_auto_columns": null,
            "grid_auto_flow": null,
            "grid_auto_rows": null,
            "grid_column": null,
            "grid_gap": null,
            "grid_row": null,
            "grid_template_areas": null,
            "grid_template_columns": null,
            "grid_template_rows": null,
            "height": null,
            "justify_content": null,
            "justify_items": null,
            "left": null,
            "margin": null,
            "max_height": null,
            "max_width": null,
            "min_height": null,
            "min_width": null,
            "object_fit": null,
            "object_position": null,
            "order": null,
            "overflow": null,
            "overflow_x": null,
            "overflow_y": null,
            "padding": null,
            "right": null,
            "top": null,
            "visibility": null,
            "width": null
          }
        },
        "e63ef0980f564ce69080357705943d9f": {
          "model_module": "@jupyter-widgets/controls",
          "model_name": "DescriptionStyleModel",
          "model_module_version": "1.5.0",
          "state": {
            "_model_module": "@jupyter-widgets/controls",
            "_model_module_version": "1.5.0",
            "_model_name": "DescriptionStyleModel",
            "_view_count": null,
            "_view_module": "@jupyter-widgets/base",
            "_view_module_version": "1.2.0",
            "_view_name": "StyleView",
            "description_width": ""
          }
        },
        "9cb23567f43d4d4493ec8c9688067183": {
          "model_module": "@jupyter-widgets/controls",
          "model_name": "HBoxModel",
          "model_module_version": "1.5.0",
          "state": {
            "_dom_classes": [],
            "_model_module": "@jupyter-widgets/controls",
            "_model_module_version": "1.5.0",
            "_model_name": "HBoxModel",
            "_view_count": null,
            "_view_module": "@jupyter-widgets/controls",
            "_view_module_version": "1.5.0",
            "_view_name": "HBoxView",
            "box_style": "",
            "children": [
              "IPY_MODEL_7cd7f37c82804ca99c8e6ba46245d2b8",
              "IPY_MODEL_7c43347cbacf49a899fc2e11710585c7",
              "IPY_MODEL_ec7c6521aa414dddb8a2365339a0ec30"
            ],
            "layout": "IPY_MODEL_f26aa4f0c4ab49489a3586407e890136"
          }
        },
        "7cd7f37c82804ca99c8e6ba46245d2b8": {
          "model_module": "@jupyter-widgets/controls",
          "model_name": "HTMLModel",
          "model_module_version": "1.5.0",
          "state": {
            "_dom_classes": [],
            "_model_module": "@jupyter-widgets/controls",
            "_model_module_version": "1.5.0",
            "_model_name": "HTMLModel",
            "_view_count": null,
            "_view_module": "@jupyter-widgets/controls",
            "_view_module_version": "1.5.0",
            "_view_name": "HTMLView",
            "description": "",
            "description_tooltip": null,
            "layout": "IPY_MODEL_0eeac5f5855b4d16b89fa0a520f6e79d",
            "placeholder": "​",
            "style": "IPY_MODEL_64d363f1a9a047bd9de36d78d6ddcefc",
            "value": "Downloading pytorch_model.bin: 100%"
          }
        },
        "7c43347cbacf49a899fc2e11710585c7": {
          "model_module": "@jupyter-widgets/controls",
          "model_name": "FloatProgressModel",
          "model_module_version": "1.5.0",
          "state": {
            "_dom_classes": [],
            "_model_module": "@jupyter-widgets/controls",
            "_model_module_version": "1.5.0",
            "_model_name": "FloatProgressModel",
            "_view_count": null,
            "_view_module": "@jupyter-widgets/controls",
            "_view_module_version": "1.5.0",
            "_view_name": "ProgressView",
            "bar_style": "success",
            "description": "",
            "description_tooltip": null,
            "layout": "IPY_MODEL_d368cb409b274fa1adebfb6f321aeb1f",
            "max": 377667514,
            "min": 0,
            "orientation": "horizontal",
            "style": "IPY_MODEL_db8292d94bea43abb9eebbcd85c16cfc",
            "value": 377667514
          }
        },
        "ec7c6521aa414dddb8a2365339a0ec30": {
          "model_module": "@jupyter-widgets/controls",
          "model_name": "HTMLModel",
          "model_module_version": "1.5.0",
          "state": {
            "_dom_classes": [],
            "_model_module": "@jupyter-widgets/controls",
            "_model_module_version": "1.5.0",
            "_model_name": "HTMLModel",
            "_view_count": null,
            "_view_module": "@jupyter-widgets/controls",
            "_view_module_version": "1.5.0",
            "_view_name": "HTMLView",
            "description": "",
            "description_tooltip": null,
            "layout": "IPY_MODEL_4ce27834b0db43e084e4ca9c78dedd88",
            "placeholder": "​",
            "style": "IPY_MODEL_0972d5b2adfe4b499c3ab46fbe4c8174",
            "value": " 378M/378M [00:03&lt;00:00, 99.3MB/s]"
          }
        },
        "f26aa4f0c4ab49489a3586407e890136": {
          "model_module": "@jupyter-widgets/base",
          "model_name": "LayoutModel",
          "model_module_version": "1.2.0",
          "state": {
            "_model_module": "@jupyter-widgets/base",
            "_model_module_version": "1.2.0",
            "_model_name": "LayoutModel",
            "_view_count": null,
            "_view_module": "@jupyter-widgets/base",
            "_view_module_version": "1.2.0",
            "_view_name": "LayoutView",
            "align_content": null,
            "align_items": null,
            "align_self": null,
            "border": null,
            "bottom": null,
            "display": null,
            "flex": null,
            "flex_flow": null,
            "grid_area": null,
            "grid_auto_columns": null,
            "grid_auto_flow": null,
            "grid_auto_rows": null,
            "grid_column": null,
            "grid_gap": null,
            "grid_row": null,
            "grid_template_areas": null,
            "grid_template_columns": null,
            "grid_template_rows": null,
            "height": null,
            "justify_content": null,
            "justify_items": null,
            "left": null,
            "margin": null,
            "max_height": null,
            "max_width": null,
            "min_height": null,
            "min_width": null,
            "object_fit": null,
            "object_position": null,
            "order": null,
            "overflow": null,
            "overflow_x": null,
            "overflow_y": null,
            "padding": null,
            "right": null,
            "top": null,
            "visibility": null,
            "width": null
          }
        },
        "0eeac5f5855b4d16b89fa0a520f6e79d": {
          "model_module": "@jupyter-widgets/base",
          "model_name": "LayoutModel",
          "model_module_version": "1.2.0",
          "state": {
            "_model_module": "@jupyter-widgets/base",
            "_model_module_version": "1.2.0",
            "_model_name": "LayoutModel",
            "_view_count": null,
            "_view_module": "@jupyter-widgets/base",
            "_view_module_version": "1.2.0",
            "_view_name": "LayoutView",
            "align_content": null,
            "align_items": null,
            "align_self": null,
            "border": null,
            "bottom": null,
            "display": null,
            "flex": null,
            "flex_flow": null,
            "grid_area": null,
            "grid_auto_columns": null,
            "grid_auto_flow": null,
            "grid_auto_rows": null,
            "grid_column": null,
            "grid_gap": null,
            "grid_row": null,
            "grid_template_areas": null,
            "grid_template_columns": null,
            "grid_template_rows": null,
            "height": null,
            "justify_content": null,
            "justify_items": null,
            "left": null,
            "margin": null,
            "max_height": null,
            "max_width": null,
            "min_height": null,
            "min_width": null,
            "object_fit": null,
            "object_position": null,
            "order": null,
            "overflow": null,
            "overflow_x": null,
            "overflow_y": null,
            "padding": null,
            "right": null,
            "top": null,
            "visibility": null,
            "width": null
          }
        },
        "64d363f1a9a047bd9de36d78d6ddcefc": {
          "model_module": "@jupyter-widgets/controls",
          "model_name": "DescriptionStyleModel",
          "model_module_version": "1.5.0",
          "state": {
            "_model_module": "@jupyter-widgets/controls",
            "_model_module_version": "1.5.0",
            "_model_name": "DescriptionStyleModel",
            "_view_count": null,
            "_view_module": "@jupyter-widgets/base",
            "_view_module_version": "1.2.0",
            "_view_name": "StyleView",
            "description_width": ""
          }
        },
        "d368cb409b274fa1adebfb6f321aeb1f": {
          "model_module": "@jupyter-widgets/base",
          "model_name": "LayoutModel",
          "model_module_version": "1.2.0",
          "state": {
            "_model_module": "@jupyter-widgets/base",
            "_model_module_version": "1.2.0",
            "_model_name": "LayoutModel",
            "_view_count": null,
            "_view_module": "@jupyter-widgets/base",
            "_view_module_version": "1.2.0",
            "_view_name": "LayoutView",
            "align_content": null,
            "align_items": null,
            "align_self": null,
            "border": null,
            "bottom": null,
            "display": null,
            "flex": null,
            "flex_flow": null,
            "grid_area": null,
            "grid_auto_columns": null,
            "grid_auto_flow": null,
            "grid_auto_rows": null,
            "grid_column": null,
            "grid_gap": null,
            "grid_row": null,
            "grid_template_areas": null,
            "grid_template_columns": null,
            "grid_template_rows": null,
            "height": null,
            "justify_content": null,
            "justify_items": null,
            "left": null,
            "margin": null,
            "max_height": null,
            "max_width": null,
            "min_height": null,
            "min_width": null,
            "object_fit": null,
            "object_position": null,
            "order": null,
            "overflow": null,
            "overflow_x": null,
            "overflow_y": null,
            "padding": null,
            "right": null,
            "top": null,
            "visibility": null,
            "width": null
          }
        },
        "db8292d94bea43abb9eebbcd85c16cfc": {
          "model_module": "@jupyter-widgets/controls",
          "model_name": "ProgressStyleModel",
          "model_module_version": "1.5.0",
          "state": {
            "_model_module": "@jupyter-widgets/controls",
            "_model_module_version": "1.5.0",
            "_model_name": "ProgressStyleModel",
            "_view_count": null,
            "_view_module": "@jupyter-widgets/base",
            "_view_module_version": "1.2.0",
            "_view_name": "StyleView",
            "bar_color": null,
            "description_width": ""
          }
        },
        "4ce27834b0db43e084e4ca9c78dedd88": {
          "model_module": "@jupyter-widgets/base",
          "model_name": "LayoutModel",
          "model_module_version": "1.2.0",
          "state": {
            "_model_module": "@jupyter-widgets/base",
            "_model_module_version": "1.2.0",
            "_model_name": "LayoutModel",
            "_view_count": null,
            "_view_module": "@jupyter-widgets/base",
            "_view_module_version": "1.2.0",
            "_view_name": "LayoutView",
            "align_content": null,
            "align_items": null,
            "align_self": null,
            "border": null,
            "bottom": null,
            "display": null,
            "flex": null,
            "flex_flow": null,
            "grid_area": null,
            "grid_auto_columns": null,
            "grid_auto_flow": null,
            "grid_auto_rows": null,
            "grid_column": null,
            "grid_gap": null,
            "grid_row": null,
            "grid_template_areas": null,
            "grid_template_columns": null,
            "grid_template_rows": null,
            "height": null,
            "justify_content": null,
            "justify_items": null,
            "left": null,
            "margin": null,
            "max_height": null,
            "max_width": null,
            "min_height": null,
            "min_width": null,
            "object_fit": null,
            "object_position": null,
            "order": null,
            "overflow": null,
            "overflow_x": null,
            "overflow_y": null,
            "padding": null,
            "right": null,
            "top": null,
            "visibility": null,
            "width": null
          }
        },
        "0972d5b2adfe4b499c3ab46fbe4c8174": {
          "model_module": "@jupyter-widgets/controls",
          "model_name": "DescriptionStyleModel",
          "model_module_version": "1.5.0",
          "state": {
            "_model_module": "@jupyter-widgets/controls",
            "_model_module_version": "1.5.0",
            "_model_name": "DescriptionStyleModel",
            "_view_count": null,
            "_view_module": "@jupyter-widgets/base",
            "_view_module_version": "1.2.0",
            "_view_name": "StyleView",
            "description_width": ""
          }
        }
      }
    }
  },
  "cells": [
    {
      "cell_type": "markdown",
      "metadata": {
        "id": "view-in-github",
        "colab_type": "text"
      },
      "source": [
        "<a href=\"https://colab.research.google.com/github/Petegichana/Machine-Learning-Algorithms/blob/main/SpeechRecognition.ipynb\" target=\"_parent\"><img src=\"https://colab.research.google.com/assets/colab-badge.svg\" alt=\"Open In Colab\"/></a>"
      ]
    },
    {
      "cell_type": "markdown",
      "source": [
        "CONVERTING TEXT TO SPEECH"
      ],
      "metadata": {
        "id": "H_meuXL6ZbyJ"
      }
    },
    {
      "cell_type": "code",
      "execution_count": 5,
      "metadata": {
        "colab": {
          "base_uri": "https://localhost:8080/"
        },
        "id": "mEK_OONxZIvD",
        "outputId": "55d20d55-7f88-4677-ed8c-83623945317f"
      },
      "outputs": [
        {
          "output_type": "stream",
          "name": "stdout",
          "text": [
            "Looking in indexes: https://pypi.org/simple, https://us-python.pkg.dev/colab-wheels/public/simple/\n",
            "Requirement already satisfied: gTTS in /usr/local/lib/python3.9/dist-packages (2.3.1)\n",
            "Requirement already satisfied: click<8.2,>=7.1 in /usr/local/lib/python3.9/dist-packages (from gTTS) (8.1.3)\n",
            "Requirement already satisfied: requests<3,>=2.27 in /usr/local/lib/python3.9/dist-packages (from gTTS) (2.28.2)\n",
            "Requirement already satisfied: certifi>=2017.4.17 in /usr/local/lib/python3.9/dist-packages (from requests<3,>=2.27->gTTS) (2022.12.7)\n",
            "Requirement already satisfied: idna<4,>=2.5 in /usr/local/lib/python3.9/dist-packages (from requests<3,>=2.27->gTTS) (2.10)\n",
            "Requirement already satisfied: charset-normalizer<4,>=2 in /usr/local/lib/python3.9/dist-packages (from requests<3,>=2.27->gTTS) (3.1.0)\n",
            "Requirement already satisfied: urllib3<1.27,>=1.21.1 in /usr/local/lib/python3.9/dist-packages (from requests<3,>=2.27->gTTS) (1.26.14)\n"
          ]
        }
      ],
      "source": [
        "!pip install gTTS"
      ]
    },
    {
      "cell_type": "code",
      "source": [
        "from gtts import gTTS\n",
        "myText = 'I Love Arsenal and we will win the premier league 2023, come on gunners'\n",
        "language = 'en'\n"
      ],
      "metadata": {
        "id": "RWlG7wa4ZxcY"
      },
      "execution_count": 6,
      "outputs": []
    },
    {
      "cell_type": "code",
      "source": [
        "speech = gTTS(text=myText, lang=language, slow=False)\n",
        "speech.save('speech.mp3')"
      ],
      "metadata": {
        "id": "7yCAjGe_aJTa"
      },
      "execution_count": 7,
      "outputs": []
    },
    {
      "cell_type": "code",
      "source": [
        "#play audio\n",
        "from IPython.display import Audio\n",
        "from IPython.display import display\n",
        "\n",
        "sound_file = 'speech.mp3'\n",
        "sound = Audio(sound_file, autoplay=True)\n",
        "display(sound)\n"
      ],
      "metadata": {
        "colab": {
          "base_uri": "https://localhost:8080/",
          "height": 75
        },
        "id": "ZIo3nJeYa2zC",
        "outputId": "a63a0160-967f-40bb-eca9-ab7c8e788e18"
      },
      "execution_count": 8,
      "outputs": [
        {
          "output_type": "display_data",
          "data": {
            "text/plain": [
              "<IPython.lib.display.Audio object>"
            ],
            "text/html": [
              "\n",
              "                <audio  controls=\"controls\" autoplay=\"autoplay\">\n",
              "                    <source src=\"data:audio/mpeg;base64,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\" type=\"audio/mpeg\" />\n",
              "                    Your browser does not support the audio element.\n",
              "                </audio>\n",
              "              "
            ]
          },
          "metadata": {}
        }
      ]
    },
    {
      "cell_type": "markdown",
      "source": [
        "SPEECH TO TEXT"
      ],
      "metadata": {
        "id": "Mb08CnrLcqER"
      }
    },
    {
      "cell_type": "code",
      "source": [
        "!pip install transformers"
      ],
      "metadata": {
        "colab": {
          "base_uri": "https://localhost:8080/"
        },
        "id": "GKFUg9BnctE5",
        "outputId": "46e1573c-301f-4f92-cdc3-c4274431f1fe"
      },
      "execution_count": 9,
      "outputs": [
        {
          "output_type": "stream",
          "name": "stdout",
          "text": [
            "Looking in indexes: https://pypi.org/simple, https://us-python.pkg.dev/colab-wheels/public/simple/\n",
            "Collecting transformers\n",
            "  Downloading transformers-4.26.1-py3-none-any.whl (6.3 MB)\n",
            "\u001b[2K     \u001b[90m━━━━━━━━━━━━━━━━━━━━━━━━━━━━━━━━━━━━━━━━\u001b[0m \u001b[32m6.3/6.3 MB\u001b[0m \u001b[31m41.5 MB/s\u001b[0m eta \u001b[36m0:00:00\u001b[0m\n",
            "\u001b[?25hCollecting tokenizers!=0.11.3,<0.14,>=0.11.1\n",
            "  Downloading tokenizers-0.13.2-cp39-cp39-manylinux_2_17_x86_64.manylinux2014_x86_64.whl (7.6 MB)\n",
            "\u001b[2K     \u001b[90m━━━━━━━━━━━━━━━━━━━━━━━━━━━━━━━━━━━━━━━━\u001b[0m \u001b[32m7.6/7.6 MB\u001b[0m \u001b[31m86.1 MB/s\u001b[0m eta \u001b[36m0:00:00\u001b[0m\n",
            "\u001b[?25hRequirement already satisfied: pyyaml>=5.1 in /usr/local/lib/python3.9/dist-packages (from transformers) (6.0)\n",
            "Requirement already satisfied: filelock in /usr/local/lib/python3.9/dist-packages (from transformers) (3.9.0)\n",
            "Requirement already satisfied: tqdm>=4.27 in /usr/local/lib/python3.9/dist-packages (from transformers) (4.65.0)\n",
            "Requirement already satisfied: numpy>=1.17 in /usr/local/lib/python3.9/dist-packages (from transformers) (1.22.4)\n",
            "Requirement already satisfied: packaging>=20.0 in /usr/local/lib/python3.9/dist-packages (from transformers) (23.0)\n",
            "Requirement already satisfied: requests in /usr/local/lib/python3.9/dist-packages (from transformers) (2.28.2)\n",
            "Collecting huggingface-hub<1.0,>=0.11.0\n",
            "  Downloading huggingface_hub-0.13.1-py3-none-any.whl (199 kB)\n",
            "\u001b[2K     \u001b[90m━━━━━━━━━━━━━━━━━━━━━━━━━━━━━━━━━━━━━━\u001b[0m \u001b[32m199.2/199.2 KB\u001b[0m \u001b[31m20.5 MB/s\u001b[0m eta \u001b[36m0:00:00\u001b[0m\n",
            "\u001b[?25hRequirement already satisfied: regex!=2019.12.17 in /usr/local/lib/python3.9/dist-packages (from transformers) (2022.6.2)\n",
            "Requirement already satisfied: typing-extensions>=3.7.4.3 in /usr/local/lib/python3.9/dist-packages (from huggingface-hub<1.0,>=0.11.0->transformers) (4.5.0)\n",
            "Requirement already satisfied: idna<4,>=2.5 in /usr/local/lib/python3.9/dist-packages (from requests->transformers) (2.10)\n",
            "Requirement already satisfied: charset-normalizer<4,>=2 in /usr/local/lib/python3.9/dist-packages (from requests->transformers) (3.1.0)\n",
            "Requirement already satisfied: urllib3<1.27,>=1.21.1 in /usr/local/lib/python3.9/dist-packages (from requests->transformers) (1.26.14)\n",
            "Requirement already satisfied: certifi>=2017.4.17 in /usr/local/lib/python3.9/dist-packages (from requests->transformers) (2022.12.7)\n",
            "Installing collected packages: tokenizers, huggingface-hub, transformers\n",
            "Successfully installed huggingface-hub-0.13.1 tokenizers-0.13.2 transformers-4.26.1\n"
          ]
        }
      ]
    },
    {
      "cell_type": "code",
      "source": [
        "#librosa : Library used for analysing and processing audio signals\n",
        "import librosa \n",
        "import torch #used to analyse the vector representaion of the sound\n",
        "\n",
        "#pre training models\n",
        "from transformers import Wav2Vec2ForCTC, Wav2Vec2Tokenizer\n",
        "#Wav2Vec2ForCTC: Pretrained CNN model for speech recognition\n",
        "#Wav2Vec2Tokenizer: Used to process audion data by converting them into chunks of vectors"
      ],
      "metadata": {
        "id": "kfjZw4izdNzH"
      },
      "execution_count": 10,
      "outputs": []
    },
    {
      "cell_type": "code",
      "source": [
        "from IPython.display import Audio\n",
        "from IPython.display import display\n",
        "\n",
        "sound_file = 'speech.mp3'\n",
        "sound = Audio(sound_file, autoplay=True)\n",
        "display(sound)\n"
      ],
      "metadata": {
        "colab": {
          "base_uri": "https://localhost:8080/",
          "height": 75
        },
        "id": "HJF7ET8vfX-P",
        "outputId": "cdcf5f74-f716-43a6-b8aa-9aea896b63fc"
      },
      "execution_count": 11,
      "outputs": [
        {
          "output_type": "display_data",
          "data": {
            "text/plain": [
              "<IPython.lib.display.Audio object>"
            ],
            "text/html": [
              "\n",
              "                <audio  controls=\"controls\" autoplay=\"autoplay\">\n",
              "                    <source src=\"data:audio/mpeg;base64,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\" type=\"audio/mpeg\" />\n",
              "                    Your browser does not support the audio element.\n",
              "                </audio>\n",
              "              "
            ]
          },
          "metadata": {}
        }
      ]
    },
    {
      "cell_type": "code",
      "source": [
        "audio, rate = librosa.load('speech.mp3', sr=16000)#16000 means we are recording 16000 audio samples per second\n",
        "print(rate)\n"
      ],
      "metadata": {
        "colab": {
          "base_uri": "https://localhost:8080/"
        },
        "id": "HNijaCxife70",
        "outputId": "3ba90418-33a2-45a2-c4f9-a79cec358a0e"
      },
      "execution_count": 12,
      "outputs": [
        {
          "output_type": "stream",
          "name": "stdout",
          "text": [
            "16000\n"
          ]
        }
      ]
    },
    {
      "cell_type": "code",
      "source": [
        "#using pretrained model\n",
        "tokenizer = Wav2Vec2Tokenizer.from_pretrained('facebook/wav2vec2-base-960h')#developed by Facebook AI research, 960 hours of speech data from diverse sources e.g audio book\n"
      ],
      "metadata": {
        "colab": {
          "base_uri": "https://localhost:8080/",
          "height": 254,
          "referenced_widgets": [
            "2c1297c3f44249f39b6135392cc2af7d",
            "dbc346d44e7a41d3bc5970a4d3e99670",
            "e1f3f7dc530f4b3fa9eb27b08acc2490",
            "08394561555446729e3cbd9720dc3f89",
            "65b10bbc5e1041f4b706479b092843be",
            "c1536abde5f840f3924fbbd31267553b",
            "9023d3b179ac4a358ee7a99b999ec114",
            "5710b34c4d2146dab07ecf19be40299c",
            "f3d05a06e6f4418cb88b30ca4f311c6c",
            "ab17213fcdef4655a9039f72a51d3b37",
            "164891777512456692a4ae08c163c97e",
            "348c0e8cb83649758f401b67af33de73",
            "3f6aa38119344891a67303ff674b9534",
            "a18389a903f34bcb8bf22877d2e489b9",
            "3478fe79982042bf824a5de35f41bbd2",
            "c1a8708936fa41b4a74e3c09c07ee483",
            "5a4428393a2c4430ab3b5bb1843a18e5",
            "f542b174b8e340409569d6c0b1431ed7",
            "ae47e7fd12bf4a259325b06f6c0ca5d2",
            "2d6ab2e439e94d1e818356ec49db44e2",
            "92aa310e720d442daa90daf94f9847e2",
            "24a43464e8414bb888555524529969ba",
            "b58e50fd37a6457abeebf2cdcd0f9ac3",
            "bbb24f56172a450989e8b263da57344a",
            "dea82673316c405992de718061c6437d",
            "6815c7ed717841c49c9d025e58cd3826",
            "7c0e0fa539f746b596d9bb5e03467ffe",
            "e4aea2bddd2048789d1e9f8aeb10662e",
            "f1b8d12085ae479a9a4aaf19aee0d298",
            "9fc7e865e44e4d34ac9d77f7f727bbc8",
            "183eb321dece415a966ce01f4682f068",
            "e298e0aba64c4251bb1c7b9676f9baf4",
            "ffba0ab7db2b4351af4d82ffa0fa2f02",
            "0dc00a5cac0d44499728815b847c0803",
            "e35813fa84fe44a89c6c019db316928a",
            "e2be530d0f3e43f5a9ae5f6534c9cc8b",
            "6e56d3fcd378493ba28a3acebd1e98d4",
            "1812786075774a08aa16d63d5649a53f",
            "fe823a4a0e87493285afe671c81647e0",
            "fcfc5449f0fc4126839a290a066d6587",
            "b91d719f067440eb8dbc23c811cb609f",
            "491b9a7250a84751972e043244224ce7",
            "e972be2038d74ae3bb548664cf7d5a0b",
            "e63ef0980f564ce69080357705943d9f"
          ]
        },
        "id": "MNJNIVIegMUE",
        "outputId": "b6f843c9-f0f5-4bb2-f5f6-bf1164401550"
      },
      "execution_count": 13,
      "outputs": [
        {
          "output_type": "display_data",
          "data": {
            "text/plain": [
              "Downloading (…)olve/main/vocab.json:   0%|          | 0.00/291 [00:00<?, ?B/s]"
            ],
            "application/vnd.jupyter.widget-view+json": {
              "version_major": 2,
              "version_minor": 0,
              "model_id": "2c1297c3f44249f39b6135392cc2af7d"
            }
          },
          "metadata": {}
        },
        {
          "output_type": "display_data",
          "data": {
            "text/plain": [
              "Downloading (…)okenizer_config.json:   0%|          | 0.00/163 [00:00<?, ?B/s]"
            ],
            "application/vnd.jupyter.widget-view+json": {
              "version_major": 2,
              "version_minor": 0,
              "model_id": "348c0e8cb83649758f401b67af33de73"
            }
          },
          "metadata": {}
        },
        {
          "output_type": "display_data",
          "data": {
            "text/plain": [
              "Downloading (…)cial_tokens_map.json:   0%|          | 0.00/85.0 [00:00<?, ?B/s]"
            ],
            "application/vnd.jupyter.widget-view+json": {
              "version_major": 2,
              "version_minor": 0,
              "model_id": "b58e50fd37a6457abeebf2cdcd0f9ac3"
            }
          },
          "metadata": {}
        },
        {
          "output_type": "display_data",
          "data": {
            "text/plain": [
              "Downloading (…)lve/main/config.json:   0%|          | 0.00/1.60k [00:00<?, ?B/s]"
            ],
            "application/vnd.jupyter.widget-view+json": {
              "version_major": 2,
              "version_minor": 0,
              "model_id": "0dc00a5cac0d44499728815b847c0803"
            }
          },
          "metadata": {}
        },
        {
          "output_type": "stream",
          "name": "stderr",
          "text": [
            "The tokenizer class you load from this checkpoint is not the same type as the class this function is called from. It may result in unexpected tokenization. \n",
            "The tokenizer class you load from this checkpoint is 'Wav2Vec2CTCTokenizer'. \n",
            "The class this function is called from is 'Wav2Vec2Tokenizer'.\n",
            "/usr/local/lib/python3.9/dist-packages/transformers/models/wav2vec2/tokenization_wav2vec2.py:752: FutureWarning: The class `Wav2Vec2Tokenizer` is deprecated and will be removed in version 5 of Transformers. Please use `Wav2Vec2Processor` or `Wav2Vec2CTCTokenizer` instead.\n",
            "  warnings.warn(\n"
          ]
        }
      ]
    },
    {
      "cell_type": "code",
      "source": [
        "model = Wav2Vec2ForCTC.from_pretrained('facebook/wav2vec2-base-960h')\n"
      ],
      "metadata": {
        "colab": {
          "base_uri": "https://localhost:8080/",
          "height": 105,
          "referenced_widgets": [
            "9cb23567f43d4d4493ec8c9688067183",
            "7cd7f37c82804ca99c8e6ba46245d2b8",
            "7c43347cbacf49a899fc2e11710585c7",
            "ec7c6521aa414dddb8a2365339a0ec30",
            "f26aa4f0c4ab49489a3586407e890136",
            "0eeac5f5855b4d16b89fa0a520f6e79d",
            "64d363f1a9a047bd9de36d78d6ddcefc",
            "d368cb409b274fa1adebfb6f321aeb1f",
            "db8292d94bea43abb9eebbcd85c16cfc",
            "4ce27834b0db43e084e4ca9c78dedd88",
            "0972d5b2adfe4b499c3ab46fbe4c8174"
          ]
        },
        "id": "rlweJXghhyhS",
        "outputId": "dcbd5524-f82d-488d-b680-0b7825c75b01"
      },
      "execution_count": 14,
      "outputs": [
        {
          "output_type": "display_data",
          "data": {
            "text/plain": [
              "Downloading pytorch_model.bin:   0%|          | 0.00/378M [00:00<?, ?B/s]"
            ],
            "application/vnd.jupyter.widget-view+json": {
              "version_major": 2,
              "version_minor": 0,
              "model_id": "9cb23567f43d4d4493ec8c9688067183"
            }
          },
          "metadata": {}
        },
        {
          "output_type": "stream",
          "name": "stderr",
          "text": [
            "Some weights of Wav2Vec2ForCTC were not initialized from the model checkpoint at facebook/wav2vec2-base-960h and are newly initialized: ['wav2vec2.masked_spec_embed']\n",
            "You should probably TRAIN this model on a down-stream task to be able to use it for predictions and inference.\n"
          ]
        }
      ]
    },
    {
      "cell_type": "code",
      "source": [
        "input_values = tokenizer(audio, return_tensors='pt').input_values\n",
        "#pt - return audio data as python tensors, rather than python lists\n",
        "print(input_values)"
      ],
      "metadata": {
        "colab": {
          "base_uri": "https://localhost:8080/"
        },
        "id": "F1ANSnXviO6c",
        "outputId": "3fbb2003-3bb6-4700-d461-fa90d1b3d56e"
      },
      "execution_count": 15,
      "outputs": [
        {
          "output_type": "stream",
          "name": "stdout",
          "text": [
            "tensor([[0.0025, 0.0025, 0.0025,  ..., 0.0025, 0.0025, 0.0025]])\n"
          ]
        }
      ]
    },
    {
      "cell_type": "code",
      "source": [
        "logits = model(input_values).logits #logits are tensors that are converted to a probability value between 0 & 1\n",
        "logits"
      ],
      "metadata": {
        "colab": {
          "base_uri": "https://localhost:8080/"
        },
        "id": "KpxUjdoRi9Xy",
        "outputId": "328daadd-bccd-43bf-d0db-66e906901db2"
      },
      "execution_count": 16,
      "outputs": [
        {
          "output_type": "execute_result",
          "data": {
            "text/plain": [
              "tensor([[[ 15.2722, -27.8628, -27.5649,  ...,  -5.7059,  -7.5932,  -7.9946],\n",
              "         [ 15.3146, -27.5575, -27.2506,  ...,  -5.5690,  -7.6367,  -7.9358],\n",
              "         [ 15.2510, -26.7367, -26.4540,  ...,  -4.3418,  -7.4839,  -7.4716],\n",
              "         ...,\n",
              "         [ 15.3630, -27.6328, -27.3477,  ...,  -5.4780,  -7.5468,  -7.5638],\n",
              "         [ 15.4448, -27.9500, -27.6552,  ...,  -5.5643,  -8.0456,  -7.6537],\n",
              "         [ 15.5060, -27.9775, -27.6744,  ...,  -5.6429,  -8.2012,  -7.6862]]],\n",
              "       grad_fn=<ViewBackward0>)"
            ]
          },
          "metadata": {},
          "execution_count": 16
        }
      ]
    },
    {
      "cell_type": "code",
      "source": [
        "prediction = torch.argmax(logits, dim = -1)\n",
        "print(prediction)"
      ],
      "metadata": {
        "colab": {
          "base_uri": "https://localhost:8080/"
        },
        "id": "abJl7RzijkJS",
        "outputId": "239abe42-ab38-4373-f674-d23e0cbd082a"
      },
      "execution_count": 17,
      "outputs": [
        {
          "output_type": "stream",
          "name": "stdout",
          "text": [
            "tensor([[ 0,  0,  0,  0,  0,  0, 10,  0,  0,  0,  4,  4,  4,  0, 15, 15,  0,  0,\n",
            "          0,  0,  8,  0,  0, 25,  0,  5,  4,  4,  4,  0,  0,  0,  0,  7,  0, 13,\n",
            "         13,  0,  0,  0,  0, 12,  0,  0,  0,  5,  0,  0,  9,  0,  0,  0,  7,  0,\n",
            "         15,  0,  0,  0,  4,  4,  0,  7,  9,  0, 14,  4,  4, 18,  0,  0,  5,  0,\n",
            "          4,  4, 18,  0,  0, 10, 15,  0,  0, 15,  0,  4,  0, 18,  0,  0, 10, 10,\n",
            "          0,  9,  0,  0,  4,  4,  6, 11,  0,  5,  4,  4,  0, 23,  0, 13,  0,  0,\n",
            "          7,  0,  0,  0, 17,  0,  0, 10,  0,  0,  0, 13, 13,  0,  0,  4,  4,  0,\n",
            "         15, 15,  0,  5,  5,  0,  7,  0, 21, 16, 16,  5,  5,  4,  4,  4,  0,  6,\n",
            "          0, 18,  0,  0,  5,  9,  9,  0,  6,  0, 22,  0,  4,  4,  4,  0,  6,  0,\n",
            "         18,  0,  0,  5,  0,  9,  0,  6,  0, 22, 22,  0,  4,  4,  0,  6,  6, 11,\n",
            "         11, 13, 13,  0,  0,  5,  0,  0,  0,  5,  5,  4,  4,  4,  4,  4,  4,  0,\n",
            "          0,  0,  0,  0,  0,  0,  0, 19,  0,  0,  0,  8,  0, 17,  0,  5,  4,  4,\n",
            "          0,  0,  0,  8,  9,  9,  0,  4,  4,  0, 21, 21,  0,  0, 16,  0,  9,  0,\n",
            "          0,  9,  0,  0,  5,  0, 13, 13,  0,  0,  0, 12, 12,  0,  4,  4,  4,  0,\n",
            "          0,  0,  0,  0,  0,  0,  0,  0,  0,  0,  0,  0,  0,  0,  0,  0,  0,  0,\n",
            "          0,  0,  0,  0,  0,  0,  0,  0,  0,  0,  0,  0,  0,  0,  0,  0,  0,  0,\n",
            "          0,  0,  0,  0]])\n"
          ]
        }
      ]
    },
    {
      "cell_type": "code",
      "source": [
        "transcription = tokenizer.batch_decode(prediction)\n",
        "print(transcription) #transcription is the process of converting vector representation of audio file"
      ],
      "metadata": {
        "colab": {
          "base_uri": "https://localhost:8080/"
        },
        "id": "tpDFG4DNkASR",
        "outputId": "f73dd821-feeb-475c-990c-5a16b500dcf0"
      },
      "execution_count": 18,
      "outputs": [
        {
          "output_type": "stream",
          "name": "stdout",
          "text": [
            "['I LOVE ARSENAL AND WE WILL WIN THE PRAMIR LEAGUE TWENTY TWENTY THREE COME ON GUNNERS']\n"
          ]
        }
      ]
    }
  ]
}