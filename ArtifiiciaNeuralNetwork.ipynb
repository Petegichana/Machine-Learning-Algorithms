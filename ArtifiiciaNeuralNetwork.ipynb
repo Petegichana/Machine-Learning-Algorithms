{
  "nbformat": 4,
  "nbformat_minor": 0,
  "metadata": {
    "colab": {
      "provenance": [],
      "include_colab_link": true
    },
    "kernelspec": {
      "name": "python3",
      "display_name": "Python 3"
    },
    "language_info": {
      "name": "python"
    }
  },
  "cells": [
    {
      "cell_type": "markdown",
      "metadata": {
        "id": "view-in-github",
        "colab_type": "text"
      },
      "source": [
        "<a href=\"https://colab.research.google.com/github/Petegichana/Machine-Learning-Algorithms/blob/main/ArtifiiciaNeuralNetwork.ipynb\" target=\"_parent\"><img src=\"https://colab.research.google.com/assets/colab-badge.svg\" alt=\"Open In Colab\"/></a>"
      ]
    },
    {
      "cell_type": "code",
      "execution_count": null,
      "metadata": {
        "colab": {
          "base_uri": "https://localhost:8080/"
        },
        "id": "B3MI2qPCFx3r",
        "outputId": "d37dffc3-4a72-4c9e-eb50-3df2ff276c17"
      },
      "outputs": [
        {
          "output_type": "stream",
          "name": "stdout",
          "text": [
            "Looking in indexes: https://pypi.org/simple, https://us-python.pkg.dev/colab-wheels/public/simple/\n",
            "Collecting ann_visualizer\n",
            "  Downloading ann_visualizer-2.5.tar.gz (4.7 kB)\n",
            "  Preparing metadata (setup.py) ... \u001b[?25l\u001b[?25hdone\n",
            "Building wheels for collected packages: ann_visualizer\n",
            "  Building wheel for ann_visualizer (setup.py) ... \u001b[?25l\u001b[?25hdone\n",
            "  Created wheel for ann_visualizer: filename=ann_visualizer-2.5-py3-none-any.whl size=4168 sha256=3aaf85b84e1ee553d174d58f392b75c67a186f3d0a464fabe261cb6afcc836c2\n",
            "  Stored in directory: /root/.cache/pip/wheels/4b/ef/77/9b8c4ae2f9a11de19957b80bc5c684accd99114bb8dc6b374c\n",
            "Successfully built ann_visualizer\n",
            "Installing collected packages: ann_visualizer\n",
            "Successfully installed ann_visualizer-2.5\n"
          ]
        }
      ],
      "source": [
        "#Artificial neural networks\n",
        "#nodes(neurons/perceptions)which are interconnected by synapses,performing\n",
        "#some computation based on iputs weights to get outputs using activation function\n",
        "\n",
        "#Regression: analyze continuous variables\n",
        "#visualize the network:ann_visualizer\n",
        "\n",
        "!pip install ann_visualizer"
      ]
    },
    {
      "cell_type": "code",
      "source": [
        "# importing data pandas\n",
        "import pandas\n",
        "data = pandas.read_csv(\"https://modcom.co.ke/datasets/Advertising.csv\")\n",
        "data "
      ],
      "metadata": {
        "colab": {
          "base_uri": "https://localhost:8080/",
          "height": 424
        },
        "id": "wMJFKP8eT-EM",
        "outputId": "a75813ce-6e13-40f0-d227-314272efe48f"
      },
      "execution_count": null,
      "outputs": [
        {
          "output_type": "execute_result",
          "data": {
            "text/plain": [
              "        TV  Radio  Newspaper  Sales\n",
              "0    230.1   37.8       69.2   22.1\n",
              "1     44.5   39.3       45.1   10.4\n",
              "2     17.2   45.9       69.3    9.3\n",
              "3    151.5   41.3       58.5   18.5\n",
              "4    180.8   10.8       58.4   12.9\n",
              "..     ...    ...        ...    ...\n",
              "195   38.2    3.7       13.8    7.6\n",
              "196   94.2    4.9        8.1    9.7\n",
              "197  177.0    9.3        6.4   12.8\n",
              "198  283.6   42.0       66.2   25.5\n",
              "199  232.1    8.6        8.7   13.4\n",
              "\n",
              "[200 rows x 4 columns]"
            ],
            "text/html": [
              "\n",
              "  <div id=\"df-e17ef59d-19ee-405d-9850-91dc9f0ecaab\">\n",
              "    <div class=\"colab-df-container\">\n",
              "      <div>\n",
              "<style scoped>\n",
              "    .dataframe tbody tr th:only-of-type {\n",
              "        vertical-align: middle;\n",
              "    }\n",
              "\n",
              "    .dataframe tbody tr th {\n",
              "        vertical-align: top;\n",
              "    }\n",
              "\n",
              "    .dataframe thead th {\n",
              "        text-align: right;\n",
              "    }\n",
              "</style>\n",
              "<table border=\"1\" class=\"dataframe\">\n",
              "  <thead>\n",
              "    <tr style=\"text-align: right;\">\n",
              "      <th></th>\n",
              "      <th>TV</th>\n",
              "      <th>Radio</th>\n",
              "      <th>Newspaper</th>\n",
              "      <th>Sales</th>\n",
              "    </tr>\n",
              "  </thead>\n",
              "  <tbody>\n",
              "    <tr>\n",
              "      <th>0</th>\n",
              "      <td>230.1</td>\n",
              "      <td>37.8</td>\n",
              "      <td>69.2</td>\n",
              "      <td>22.1</td>\n",
              "    </tr>\n",
              "    <tr>\n",
              "      <th>1</th>\n",
              "      <td>44.5</td>\n",
              "      <td>39.3</td>\n",
              "      <td>45.1</td>\n",
              "      <td>10.4</td>\n",
              "    </tr>\n",
              "    <tr>\n",
              "      <th>2</th>\n",
              "      <td>17.2</td>\n",
              "      <td>45.9</td>\n",
              "      <td>69.3</td>\n",
              "      <td>9.3</td>\n",
              "    </tr>\n",
              "    <tr>\n",
              "      <th>3</th>\n",
              "      <td>151.5</td>\n",
              "      <td>41.3</td>\n",
              "      <td>58.5</td>\n",
              "      <td>18.5</td>\n",
              "    </tr>\n",
              "    <tr>\n",
              "      <th>4</th>\n",
              "      <td>180.8</td>\n",
              "      <td>10.8</td>\n",
              "      <td>58.4</td>\n",
              "      <td>12.9</td>\n",
              "    </tr>\n",
              "    <tr>\n",
              "      <th>...</th>\n",
              "      <td>...</td>\n",
              "      <td>...</td>\n",
              "      <td>...</td>\n",
              "      <td>...</td>\n",
              "    </tr>\n",
              "    <tr>\n",
              "      <th>195</th>\n",
              "      <td>38.2</td>\n",
              "      <td>3.7</td>\n",
              "      <td>13.8</td>\n",
              "      <td>7.6</td>\n",
              "    </tr>\n",
              "    <tr>\n",
              "      <th>196</th>\n",
              "      <td>94.2</td>\n",
              "      <td>4.9</td>\n",
              "      <td>8.1</td>\n",
              "      <td>9.7</td>\n",
              "    </tr>\n",
              "    <tr>\n",
              "      <th>197</th>\n",
              "      <td>177.0</td>\n",
              "      <td>9.3</td>\n",
              "      <td>6.4</td>\n",
              "      <td>12.8</td>\n",
              "    </tr>\n",
              "    <tr>\n",
              "      <th>198</th>\n",
              "      <td>283.6</td>\n",
              "      <td>42.0</td>\n",
              "      <td>66.2</td>\n",
              "      <td>25.5</td>\n",
              "    </tr>\n",
              "    <tr>\n",
              "      <th>199</th>\n",
              "      <td>232.1</td>\n",
              "      <td>8.6</td>\n",
              "      <td>8.7</td>\n",
              "      <td>13.4</td>\n",
              "    </tr>\n",
              "  </tbody>\n",
              "</table>\n",
              "<p>200 rows × 4 columns</p>\n",
              "</div>\n",
              "      <button class=\"colab-df-convert\" onclick=\"convertToInteractive('df-e17ef59d-19ee-405d-9850-91dc9f0ecaab')\"\n",
              "              title=\"Convert this dataframe to an interactive table.\"\n",
              "              style=\"display:none;\">\n",
              "        \n",
              "  <svg xmlns=\"http://www.w3.org/2000/svg\" height=\"24px\"viewBox=\"0 0 24 24\"\n",
              "       width=\"24px\">\n",
              "    <path d=\"M0 0h24v24H0V0z\" fill=\"none\"/>\n",
              "    <path d=\"M18.56 5.44l.94 2.06.94-2.06 2.06-.94-2.06-.94-.94-2.06-.94 2.06-2.06.94zm-11 1L8.5 8.5l.94-2.06 2.06-.94-2.06-.94L8.5 2.5l-.94 2.06-2.06.94zm10 10l.94 2.06.94-2.06 2.06-.94-2.06-.94-.94-2.06-.94 2.06-2.06.94z\"/><path d=\"M17.41 7.96l-1.37-1.37c-.4-.4-.92-.59-1.43-.59-.52 0-1.04.2-1.43.59L10.3 9.45l-7.72 7.72c-.78.78-.78 2.05 0 2.83L4 21.41c.39.39.9.59 1.41.59.51 0 1.02-.2 1.41-.59l7.78-7.78 2.81-2.81c.8-.78.8-2.07 0-2.86zM5.41 20L4 18.59l7.72-7.72 1.47 1.35L5.41 20z\"/>\n",
              "  </svg>\n",
              "      </button>\n",
              "      \n",
              "  <style>\n",
              "    .colab-df-container {\n",
              "      display:flex;\n",
              "      flex-wrap:wrap;\n",
              "      gap: 12px;\n",
              "    }\n",
              "\n",
              "    .colab-df-convert {\n",
              "      background-color: #E8F0FE;\n",
              "      border: none;\n",
              "      border-radius: 50%;\n",
              "      cursor: pointer;\n",
              "      display: none;\n",
              "      fill: #1967D2;\n",
              "      height: 32px;\n",
              "      padding: 0 0 0 0;\n",
              "      width: 32px;\n",
              "    }\n",
              "\n",
              "    .colab-df-convert:hover {\n",
              "      background-color: #E2EBFA;\n",
              "      box-shadow: 0px 1px 2px rgba(60, 64, 67, 0.3), 0px 1px 3px 1px rgba(60, 64, 67, 0.15);\n",
              "      fill: #174EA6;\n",
              "    }\n",
              "\n",
              "    [theme=dark] .colab-df-convert {\n",
              "      background-color: #3B4455;\n",
              "      fill: #D2E3FC;\n",
              "    }\n",
              "\n",
              "    [theme=dark] .colab-df-convert:hover {\n",
              "      background-color: #434B5C;\n",
              "      box-shadow: 0px 1px 3px 1px rgba(0, 0, 0, 0.15);\n",
              "      filter: drop-shadow(0px 1px 2px rgba(0, 0, 0, 0.3));\n",
              "      fill: #FFFFFF;\n",
              "    }\n",
              "  </style>\n",
              "\n",
              "      <script>\n",
              "        const buttonEl =\n",
              "          document.querySelector('#df-e17ef59d-19ee-405d-9850-91dc9f0ecaab button.colab-df-convert');\n",
              "        buttonEl.style.display =\n",
              "          google.colab.kernel.accessAllowed ? 'block' : 'none';\n",
              "\n",
              "        async function convertToInteractive(key) {\n",
              "          const element = document.querySelector('#df-e17ef59d-19ee-405d-9850-91dc9f0ecaab');\n",
              "          const dataTable =\n",
              "            await google.colab.kernel.invokeFunction('convertToInteractive',\n",
              "                                                     [key], {});\n",
              "          if (!dataTable) return;\n",
              "\n",
              "          const docLinkHtml = 'Like what you see? Visit the ' +\n",
              "            '<a target=\"_blank\" href=https://colab.research.google.com/notebooks/data_table.ipynb>data table notebook</a>'\n",
              "            + ' to learn more about interactive tables.';\n",
              "          element.innerHTML = '';\n",
              "          dataTable['output_type'] = 'display_data';\n",
              "          await google.colab.output.renderOutput(dataTable, element);\n",
              "          const docLink = document.createElement('div');\n",
              "          docLink.innerHTML = docLinkHtml;\n",
              "          element.appendChild(docLink);\n",
              "        }\n",
              "      </script>\n",
              "    </div>\n",
              "  </div>\n",
              "  "
            ]
          },
          "metadata": {},
          "execution_count": 2
        }
      ]
    },
    {
      "cell_type": "code",
      "source": [
        "data.isnull().sum()"
      ],
      "metadata": {
        "colab": {
          "base_uri": "https://localhost:8080/"
        },
        "id": "gPZAj3-GUuVT",
        "outputId": "c6f18547-ea4e-4679-97f3-ce4f9aa12879"
      },
      "execution_count": null,
      "outputs": [
        {
          "output_type": "execute_result",
          "data": {
            "text/plain": [
              "TV           0\n",
              "Radio        0\n",
              "Newspaper    0\n",
              "Sales        0\n",
              "dtype: int64"
            ]
          },
          "metadata": {},
          "execution_count": 3
        }
      ]
    },
    {
      "cell_type": "code",
      "source": [
        "array = data.values\n",
        "X = array[:,0:3]\n",
        "Y =array[:,3]"
      ],
      "metadata": {
        "id": "MmfSGj7xU_3l"
      },
      "execution_count": null,
      "outputs": []
    },
    {
      "cell_type": "code",
      "source": [
        "#split data into training(70%) and testing (30%)\n",
        "from sklearn import model_selection\n",
        "X_train,X_test,Y_train,Y_test =model_selection.train_test_split(X,Y,test_size=0.3,random_state=42)\n",
        "                                                              "
      ],
      "metadata": {
        "id": "I1_rzyw-V3Dd"
      },
      "execution_count": null,
      "outputs": []
    },
    {
      "cell_type": "code",
      "source": [
        "#create ANN:using the keras python library\n",
        "#sequentials:multilayerneurons\n",
        "from keras.models import Sequential\n",
        "from keras.layers import Dense,Dropout,Flatten"
      ],
      "metadata": {
        "id": "wkNlGcQZXJTf"
      },
      "execution_count": null,
      "outputs": []
    },
    {
      "cell_type": "code",
      "source": [
        "#create ANNmodel\n",
        "model=Sequential()\n",
        "#input layer:3\n",
        "#nodes:12\n",
        "#activation function :relu,sigmoid,softmax->Non_linearity\n",
        "\n",
        "model.add(Dense(500,input_dim=3,activation=\"relu\"))\n",
        "\n",
        "#Hidden layer\n",
        "\n",
        "model.add(Dense(100,activation='relu'))\n",
        "\n",
        "model.add(Dense(50,activation='relu'))\n",
        "\n",
        "\n",
        "# output layer\n",
        "\n",
        "model.add(Dense(1,activation='sigmoid'))\n",
        "\n",
        "#Activation function"
      ],
      "metadata": {
        "id": "YrMLcAQGYzgK"
      },
      "execution_count": null,
      "outputs": []
    },
    {
      "cell_type": "code",
      "source": [
        "from ann_visualizer.visualize import ann_viz\n",
        "ann_viz(model,view = True,title = \"My ANN Regression\",filename='ANN.gv')"
      ],
      "metadata": {
        "id": "2k4uT3pDYyYf"
      },
      "execution_count": null,
      "outputs": []
    },
    {
      "cell_type": "code",
      "source": [
        "#overfitting:occurs when the model overlearns from the data(overheating)\n",
        "# To remove :Early dropping\n",
        "from keras.callbacks import EarlyStopping\n",
        "earlyDrop =EarlyStopping(monitor='loss',mode='min',patience=10,restore_best_weights=True)"
      ],
      "metadata": {
        "id": "qYJFW5HcmZuN"
      },
      "execution_count": null,
      "outputs": []
    },
    {
      "cell_type": "code",
      "source": [
        "# Model Check Point: stores the model after each epoch\n",
        "from keras.callbacks import ModelCheckpoint\n",
        "stored_model = \"advertbest.hdf5\"\n",
        "chechpoint = ModelCheckpoint(stored_model, monitor='loss', mode='min', save_best_only=True, verbose=1)"
      ],
      "metadata": {
        "id": "y83P1QgfpgIO"
      },
      "execution_count": null,
      "outputs": []
    },
    {
      "cell_type": "code",
      "source": [
        "#compilations:\n",
        "#loss:measure of how the model was close to achieving the actual value\n",
        "#optimizer:adjust the model parameters with an aim of reducing the loss and increase the accuracy\n",
        "\n",
        "model.compile(loss=\"mean_squared_error\",optimizer='adam',metrics=[\"mae\",'mape'])"
      ],
      "metadata": {
        "id": "SdZMt9nSetPB"
      },
      "execution_count": null,
      "outputs": []
    },
    {
      "cell_type": "code",
      "source": [
        "#Fit data\n",
        "# epoch :number of times ANN runs full training of the data\n",
        "#sample:record on the dataset\n",
        "#batch size: number o samples taken per iteration\n",
        "\n",
        "model.fit(X_train,Y_train,epochs=500,batch_size=32,callbacks=[earlyDrop,chechpoint])"
      ],
      "metadata": {
        "colab": {
          "base_uri": "https://localhost:8080/"
        },
        "id": "4yZjkS7VgKWf",
        "outputId": "a07d0c9d-1a22-4535-905b-c72f3342cc90"
      },
      "execution_count": null,
      "outputs": [
        {
          "output_type": "stream",
          "name": "stdout",
          "text": [
            "Epoch 1/500\n",
            "1/5 [=====>........................] - ETA: 14s - loss: 190.0001 - mae: 12.9531 - mape: 96.6830\n",
            "Epoch 1: loss improved from inf to 212.53459, saving model to advertbest.hdf5\n",
            "5/5 [==============================] - 4s 65ms/step - loss: 212.5346 - mae: 13.6537 - mape: 93.0209\n",
            "Epoch 2/500\n",
            "5/5 [==============================] - ETA: 0s - loss: 208.4265 - mae: 13.4989 - mape: 91.7324\n",
            "Epoch 2: loss improved from 212.53459 to 208.42648, saving model to advertbest.hdf5\n",
            "5/5 [==============================] - 0s 51ms/step - loss: 208.4265 - mae: 13.4989 - mape: 91.7324\n",
            "Epoch 3/500\n",
            "5/5 [==============================] - ETA: 0s - loss: 208.4185 - mae: 13.4978 - mape: 91.7079\n",
            "Epoch 3: loss improved from 208.42648 to 208.41855, saving model to advertbest.hdf5\n",
            "5/5 [==============================] - 0s 40ms/step - loss: 208.4185 - mae: 13.4978 - mape: 91.7079\n",
            "Epoch 4/500\n",
            "1/5 [=====>........................] - ETA: 0s - loss: 180.1298 - mae: 12.5565 - mape: 91.2094\n",
            "Epoch 4: loss improved from 208.41855 to 208.41739, saving model to advertbest.hdf5\n",
            "5/5 [==============================] - 0s 38ms/step - loss: 208.4174 - mae: 13.4976 - mape: 91.7039\n",
            "Epoch 5/500\n",
            "5/5 [==============================] - ETA: 0s - loss: 208.4166 - mae: 13.4975 - mape: 91.7014\n",
            "Epoch 5: loss improved from 208.41739 to 208.41664, saving model to advertbest.hdf5\n",
            "5/5 [==============================] - 0s 52ms/step - loss: 208.4166 - mae: 13.4975 - mape: 91.7014\n",
            "Epoch 6/500\n",
            "5/5 [==============================] - ETA: 0s - loss: 208.4159 - mae: 13.4974 - mape: 91.6991\n",
            "Epoch 6: loss improved from 208.41664 to 208.41592, saving model to advertbest.hdf5\n",
            "5/5 [==============================] - 0s 47ms/step - loss: 208.4159 - mae: 13.4974 - mape: 91.6991\n",
            "Epoch 7/500\n",
            "1/5 [=====>........................] - ETA: 0s - loss: 218.6925 - mae: 14.0188 - mape: 92.5517\n",
            "Epoch 7: loss improved from 208.41592 to 208.41528, saving model to advertbest.hdf5\n",
            "5/5 [==============================] - 0s 24ms/step - loss: 208.4153 - mae: 13.4973 - mape: 91.6973\n",
            "Epoch 8/500\n",
            "4/5 [=======================>......] - ETA: 0s - loss: 208.5270 - mae: 13.4992 - mape: 91.6881\n",
            "Epoch 8: loss improved from 208.41528 to 208.41499, saving model to advertbest.hdf5\n",
            "5/5 [==============================] - 0s 34ms/step - loss: 208.4150 - mae: 13.4973 - mape: 91.6965\n",
            "Epoch 9/500\n",
            "5/5 [==============================] - ETA: 0s - loss: 208.4148 - mae: 13.4973 - mape: 91.6960\n",
            "Epoch 9: loss improved from 208.41499 to 208.41484, saving model to advertbest.hdf5\n",
            "5/5 [==============================] - 0s 45ms/step - loss: 208.4148 - mae: 13.4973 - mape: 91.6960\n",
            "Epoch 10/500\n",
            "5/5 [==============================] - ETA: 0s - loss: 208.4146 - mae: 13.4972 - mape: 91.6954\n",
            "Epoch 10: loss improved from 208.41484 to 208.41463, saving model to advertbest.hdf5\n",
            "5/5 [==============================] - 0s 49ms/step - loss: 208.4146 - mae: 13.4972 - mape: 91.6954\n",
            "Epoch 11/500\n",
            "1/5 [=====>........................] - ETA: 0s - loss: 189.3006 - mae: 12.8442 - mape: 91.3115\n",
            "Epoch 11: loss improved from 208.41463 to 208.41457, saving model to advertbest.hdf5\n",
            "5/5 [==============================] - 0s 26ms/step - loss: 208.4146 - mae: 13.4972 - mape: 91.6952\n",
            "Epoch 12/500\n",
            "1/5 [=====>........................] - ETA: 0s - loss: 165.4309 - mae: 12.2531 - mape: 91.5664\n",
            "Epoch 12: loss improved from 208.41457 to 208.41446, saving model to advertbest.hdf5\n",
            "5/5 [==============================] - 0s 35ms/step - loss: 208.4145 - mae: 13.4972 - mape: 91.6948\n",
            "Epoch 13/500\n",
            "1/5 [=====>........................] - ETA: 0s - loss: 206.8672 - mae: 13.6003 - mape: 92.2617\n",
            "Epoch 13: loss improved from 208.41446 to 208.41440, saving model to advertbest.hdf5\n",
            "5/5 [==============================] - 0s 21ms/step - loss: 208.4144 - mae: 13.4972 - mape: 91.6947\n",
            "Epoch 14/500\n",
            "1/5 [=====>........................] - ETA: 0s - loss: 210.8800 - mae: 13.6688 - mape: 92.3058\n",
            "Epoch 14: loss improved from 208.41440 to 208.41429, saving model to advertbest.hdf5\n",
            "5/5 [==============================] - 0s 37ms/step - loss: 208.4143 - mae: 13.4972 - mape: 91.6944\n",
            "Epoch 15/500\n",
            "1/5 [=====>........................] - ETA: 0s - loss: 216.0000 - mae: 13.6187 - mape: 92.1384\n",
            "Epoch 15: loss improved from 208.41429 to 208.41428, saving model to advertbest.hdf5\n",
            "5/5 [==============================] - 0s 25ms/step - loss: 208.4143 - mae: 13.4972 - mape: 91.6943\n",
            "Epoch 16/500\n",
            "1/5 [=====>........................] - ETA: 0s - loss: 212.8322 - mae: 13.8594 - mape: 92.4810\n",
            "Epoch 16: loss improved from 208.41428 to 208.41422, saving model to advertbest.hdf5\n",
            "5/5 [==============================] - 0s 19ms/step - loss: 208.4142 - mae: 13.4972 - mape: 91.6942\n",
            "Epoch 17/500\n",
            "1/5 [=====>........................] - ETA: 0s - loss: 238.6632 - mae: 14.2688 - mape: 90.6159\n",
            "Epoch 17: loss improved from 208.41422 to 208.41418, saving model to advertbest.hdf5\n",
            "5/5 [==============================] - 0s 23ms/step - loss: 208.4142 - mae: 13.4972 - mape: 91.6941\n",
            "Epoch 18/500\n",
            "1/5 [=====>........................] - ETA: 0s - loss: 241.9469 - mae: 14.4875 - mape: 92.5808\n",
            "Epoch 18: loss improved from 208.41418 to 208.41415, saving model to advertbest.hdf5\n",
            "5/5 [==============================] - 0s 22ms/step - loss: 208.4142 - mae: 13.4972 - mape: 91.6940\n",
            "Epoch 19/500\n",
            "1/5 [=====>........................] - ETA: 0s - loss: 217.1712 - mae: 13.7877 - mape: 92.1570\n",
            "Epoch 19: loss improved from 208.41415 to 208.41414, saving model to advertbest.hdf5\n",
            "5/5 [==============================] - 0s 34ms/step - loss: 208.4141 - mae: 13.4972 - mape: 91.6940\n",
            "Epoch 20/500\n",
            "5/5 [==============================] - ETA: 0s - loss: 208.4141 - mae: 13.4972 - mape: 91.6939\n",
            "Epoch 20: loss improved from 208.41414 to 208.41409, saving model to advertbest.hdf5\n",
            "5/5 [==============================] - 0s 45ms/step - loss: 208.4141 - mae: 13.4972 - mape: 91.6939\n",
            "Epoch 21/500\n",
            "1/5 [=====>........................] - ETA: 0s - loss: 199.5634 - mae: 13.2406 - mape: 92.1508\n",
            "Epoch 21: loss did not improve from 208.41409\n",
            "5/5 [==============================] - 0s 14ms/step - loss: 208.4141 - mae: 13.4972 - mape: 91.6939\n",
            "Epoch 22/500\n",
            "1/5 [=====>........................] - ETA: 0s - loss: 200.4660 - mae: 12.9376 - mape: 89.6935\n",
            "Epoch 22: loss improved from 208.41409 to 208.41408, saving model to advertbest.hdf5\n",
            "5/5 [==============================] - 0s 19ms/step - loss: 208.4141 - mae: 13.4972 - mape: 91.6938\n",
            "Epoch 23/500\n",
            "1/5 [=====>........................] - ETA: 0s - loss: 238.2300 - mae: 14.5562 - mape: 92.7117\n",
            "Epoch 23: loss improved from 208.41408 to 208.41406, saving model to advertbest.hdf5\n",
            "5/5 [==============================] - 0s 36ms/step - loss: 208.4141 - mae: 13.4972 - mape: 91.6937\n",
            "Epoch 24/500\n",
            "4/5 [=======================>......] - ETA: 0s - loss: 211.1714 - mae: 13.6078 - mape: 91.7833\n",
            "Epoch 24: loss improved from 208.41406 to 208.41403, saving model to advertbest.hdf5\n",
            "5/5 [==============================] - 0s 39ms/step - loss: 208.4140 - mae: 13.4972 - mape: 91.6937\n",
            "Epoch 25/500\n",
            "1/5 [=====>........................] - ETA: 0s - loss: 216.0657 - mae: 13.6001 - mape: 91.8029\n",
            "Epoch 25: loss improved from 208.41403 to 208.41402, saving model to advertbest.hdf5\n",
            "5/5 [==============================] - 0s 22ms/step - loss: 208.4140 - mae: 13.4972 - mape: 91.6937\n",
            "Epoch 26/500\n",
            "1/5 [=====>........................] - ETA: 0s - loss: 221.4987 - mae: 14.1625 - mape: 91.4449\n",
            "Epoch 26: loss improved from 208.41402 to 208.41400, saving model to advertbest.hdf5\n",
            "5/5 [==============================] - 0s 27ms/step - loss: 208.4140 - mae: 13.4972 - mape: 91.6936\n",
            "Epoch 27/500\n",
            "1/5 [=====>........................] - ETA: 0s - loss: 189.3397 - mae: 12.8594 - mape: 91.7609\n",
            "Epoch 27: loss improved from 208.41400 to 208.41399, saving model to advertbest.hdf5\n",
            "5/5 [==============================] - 0s 22ms/step - loss: 208.4140 - mae: 13.4972 - mape: 91.6935\n",
            "Epoch 28/500\n",
            "5/5 [==============================] - ETA: 0s - loss: 208.4140 - mae: 13.4972 - mape: 91.6935\n",
            "Epoch 28: loss did not improve from 208.41399\n",
            "5/5 [==============================] - 0s 22ms/step - loss: 208.4140 - mae: 13.4972 - mape: 91.6935\n",
            "Epoch 29/500\n",
            "5/5 [==============================] - ETA: 0s - loss: 208.4140 - mae: 13.4972 - mape: 91.6935\n",
            "Epoch 29: loss did not improve from 208.41399\n",
            "5/5 [==============================] - 0s 19ms/step - loss: 208.4140 - mae: 13.4972 - mape: 91.6935\n",
            "Epoch 30/500\n",
            "1/5 [=====>........................] - ETA: 0s - loss: 245.2550 - mae: 14.6750 - mape: 92.6527\n",
            "Epoch 30: loss improved from 208.41399 to 208.41396, saving model to advertbest.hdf5\n",
            "5/5 [==============================] - 0s 32ms/step - loss: 208.4140 - mae: 13.4972 - mape: 91.6935\n",
            "Epoch 31/500\n",
            "1/5 [=====>........................] - ETA: 0s - loss: 190.4888 - mae: 12.6000 - mape: 90.9905\n",
            "Epoch 31: loss did not improve from 208.41396\n",
            "5/5 [==============================] - 0s 14ms/step - loss: 208.4140 - mae: 13.4972 - mape: 91.6935\n",
            "Epoch 32/500\n",
            "1/5 [=====>........................] - ETA: 0s - loss: 221.7484 - mae: 13.7719 - mape: 91.6725\n",
            "Epoch 32: loss improved from 208.41396 to 208.41394, saving model to advertbest.hdf5\n",
            "5/5 [==============================] - 0s 23ms/step - loss: 208.4139 - mae: 13.4972 - mape: 91.6934\n",
            "Epoch 33/500\n",
            "5/5 [==============================] - ETA: 0s - loss: 208.4139 - mae: 13.4972 - mape: 91.6934\n",
            "Epoch 33: loss did not improve from 208.41394\n",
            "5/5 [==============================] - 0s 18ms/step - loss: 208.4139 - mae: 13.4972 - mape: 91.6934\n",
            "Epoch 34/500\n",
            "1/5 [=====>........................] - ETA: 0s - loss: 184.4931 - mae: 12.7313 - mape: 91.7346\n",
            "Epoch 34: loss did not improve from 208.41394\n",
            "5/5 [==============================] - 0s 9ms/step - loss: 208.4139 - mae: 13.4972 - mape: 91.6934\n",
            "Epoch 35/500\n",
            "1/5 [=====>........................] - ETA: 0s - loss: 199.2288 - mae: 13.3813 - mape: 92.2452\n",
            "Epoch 35: loss improved from 208.41394 to 208.41393, saving model to advertbest.hdf5\n",
            "5/5 [==============================] - 0s 28ms/step - loss: 208.4139 - mae: 13.4972 - mape: 91.6934\n",
            "Epoch 36/500\n",
            "1/5 [=====>........................] - ETA: 0s - loss: 248.3353 - mae: 14.8531 - mape: 92.9883\n",
            "Epoch 36: loss improved from 208.41393 to 208.41391, saving model to advertbest.hdf5\n",
            "5/5 [==============================] - 0s 48ms/step - loss: 208.4139 - mae: 13.4972 - mape: 91.6933\n",
            "Epoch 37/500\n",
            "1/5 [=====>........................] - ETA: 0s - loss: 170.6646 - mae: 12.1938 - mape: 91.2494\n",
            "Epoch 37: loss did not improve from 208.41391\n",
            "5/5 [==============================] - 0s 12ms/step - loss: 208.4139 - mae: 13.4972 - mape: 91.6933\n",
            "Epoch 38/500\n",
            "1/5 [=====>........................] - ETA: 0s - loss: 205.6728 - mae: 13.6969 - mape: 92.0656\n",
            "Epoch 38: loss did not improve from 208.41391\n",
            "5/5 [==============================] - 0s 9ms/step - loss: 208.4139 - mae: 13.4971 - mape: 91.6933\n",
            "Epoch 39/500\n",
            "1/5 [=====>........................] - ETA: 0s - loss: 231.5794 - mae: 14.1938 - mape: 91.1424\n",
            "Epoch 39: loss improved from 208.41391 to 208.41389, saving model to advertbest.hdf5\n",
            "5/5 [==============================] - 0s 18ms/step - loss: 208.4139 - mae: 13.4971 - mape: 91.6933\n",
            "Epoch 40/500\n",
            "1/5 [=====>........................] - ETA: 0s - loss: 201.9922 - mae: 13.1594 - mape: 91.2970\n",
            "Epoch 40: loss did not improve from 208.41389\n",
            "5/5 [==============================] - 0s 14ms/step - loss: 208.4139 - mae: 13.4971 - mape: 91.6933\n",
            "Epoch 41/500\n",
            "1/5 [=====>........................] - ETA: 0s - loss: 186.9794 - mae: 12.9813 - mape: 92.0624\n",
            "Epoch 41: loss did not improve from 208.41389\n",
            "5/5 [==============================] - 0s 9ms/step - loss: 208.4139 - mae: 13.4971 - mape: 91.6933\n",
            "Epoch 42/500\n",
            "1/5 [=====>........................] - ETA: 0s - loss: 169.6027 - mae: 12.4063 - mape: 91.7776\n",
            "Epoch 42: loss did not improve from 208.41389\n",
            "5/5 [==============================] - 0s 8ms/step - loss: 208.4139 - mae: 13.4971 - mape: 91.6933\n",
            "Epoch 43/500\n",
            "4/5 [=======================>......] - ETA: 0s - loss: 207.0613 - mae: 13.4781 - mape: 91.6848\n",
            "Epoch 43: loss improved from 208.41389 to 208.41388, saving model to advertbest.hdf5\n",
            "5/5 [==============================] - 0s 47ms/step - loss: 208.4139 - mae: 13.4971 - mape: 91.6933\n",
            "Epoch 44/500\n",
            "1/5 [=====>........................] - ETA: 0s - loss: 216.5575 - mae: 13.8250 - mape: 92.2840\n",
            "Epoch 44: loss did not improve from 208.41388\n",
            "5/5 [==============================] - 0s 9ms/step - loss: 208.4139 - mae: 13.4971 - mape: 91.6933\n",
            "Epoch 45/500\n",
            "1/5 [=====>........................] - ETA: 0s - loss: 226.1056 - mae: 14.1625 - mape: 92.5350\n",
            "Epoch 45: loss did not improve from 208.41388\n",
            "5/5 [==============================] - 0s 8ms/step - loss: 208.4139 - mae: 13.4971 - mape: 91.6933\n",
            "Epoch 46/500\n",
            "5/5 [==============================] - ETA: 0s - loss: 208.4139 - mae: 13.4971 - mape: 91.6933\n",
            "Epoch 46: loss did not improve from 208.41388\n",
            "5/5 [==============================] - 0s 19ms/step - loss: 208.4139 - mae: 13.4971 - mape: 91.6933\n",
            "Epoch 47/500\n",
            "1/5 [=====>........................] - ETA: 0s - loss: 192.8050 - mae: 13.0375 - mape: 91.9054\n",
            "Epoch 47: loss did not improve from 208.41388\n",
            "5/5 [==============================] - 0s 11ms/step - loss: 208.4139 - mae: 13.4971 - mape: 91.6933\n",
            "Epoch 48/500\n",
            "1/5 [=====>........................] - ETA: 0s - loss: 144.4041 - mae: 11.2094 - mape: 89.4607\n",
            "Epoch 48: loss did not improve from 208.41388\n",
            "5/5 [==============================] - 0s 8ms/step - loss: 208.4139 - mae: 13.4971 - mape: 91.6933\n",
            "Epoch 49/500\n",
            "1/5 [=====>........................] - ETA: 0s - loss: 255.9754 - mae: 14.7469 - mape: 91.9095\n",
            "Epoch 49: loss did not improve from 208.41388\n",
            "5/5 [==============================] - 0s 10ms/step - loss: 208.4139 - mae: 13.4971 - mape: 91.6933\n",
            "Epoch 50/500\n",
            "1/5 [=====>........................] - ETA: 0s - loss: 221.8347 - mae: 13.8969 - mape: 91.0269\n",
            "Epoch 50: loss improved from 208.41388 to 208.41386, saving model to advertbest.hdf5\n",
            "5/5 [==============================] - 0s 22ms/step - loss: 208.4139 - mae: 13.4971 - mape: 91.6932\n",
            "Epoch 51/500\n",
            "1/5 [=====>........................] - ETA: 0s - loss: 218.1856 - mae: 13.6938 - mape: 92.1306\n",
            "Epoch 51: loss did not improve from 208.41386\n",
            "5/5 [==============================] - 0s 9ms/step - loss: 208.4139 - mae: 13.4971 - mape: 91.6932\n",
            "Epoch 52/500\n",
            "1/5 [=====>........................] - ETA: 0s - loss: 173.9562 - mae: 12.4125 - mape: 91.7009\n",
            "Epoch 52: loss did not improve from 208.41386\n",
            "5/5 [==============================] - 0s 9ms/step - loss: 208.4139 - mae: 13.4971 - mape: 91.6932\n",
            "Epoch 53/500\n",
            "1/5 [=====>........................] - ETA: 0s - loss: 183.8566 - mae: 12.5344 - mape: 91.4288\n",
            "Epoch 53: loss did not improve from 208.41386\n",
            "5/5 [==============================] - 0s 10ms/step - loss: 208.4139 - mae: 13.4971 - mape: 91.6932\n",
            "Epoch 54/500\n",
            "1/5 [=====>........................] - ETA: 0s - loss: 234.1897 - mae: 14.7094 - mape: 93.1838\n",
            "Epoch 54: loss did not improve from 208.41386\n",
            "5/5 [==============================] - 0s 10ms/step - loss: 208.4139 - mae: 13.4971 - mape: 91.6932\n",
            "Epoch 55/500\n",
            "1/5 [=====>........................] - ETA: 0s - loss: 220.3313 - mae: 13.3313 - mape: 89.8781\n",
            "Epoch 55: loss did not improve from 208.41386\n",
            "5/5 [==============================] - 0s 8ms/step - loss: 208.4139 - mae: 13.4971 - mape: 91.6932\n",
            "Epoch 56/500\n",
            "1/5 [=====>........................] - ETA: 0s - loss: 218.8488 - mae: 13.9375 - mape: 92.2273\n",
            "Epoch 56: loss did not improve from 208.41386\n",
            "5/5 [==============================] - 0s 8ms/step - loss: 208.4139 - mae: 13.4971 - mape: 91.6932\n",
            "Epoch 57/500\n",
            "1/5 [=====>........................] - ETA: 0s - loss: 195.5544 - mae: 12.6563 - mape: 89.6158\n",
            "Epoch 57: loss did not improve from 208.41386\n",
            "5/5 [==============================] - 0s 9ms/step - loss: 208.4139 - mae: 13.4971 - mape: 91.6932\n",
            "Epoch 58/500\n",
            "1/5 [=====>........................] - ETA: 0s - loss: 211.3766 - mae: 13.4594 - mape: 92.1232\n",
            "Epoch 58: loss did not improve from 208.41386\n",
            "5/5 [==============================] - 0s 11ms/step - loss: 208.4139 - mae: 13.4971 - mape: 91.6932\n",
            "Epoch 59/500\n",
            "1/5 [=====>........................] - ETA: 0s - loss: 180.9784 - mae: 12.5531 - mape: 91.5673\n",
            "Epoch 59: loss did not improve from 208.41386\n",
            "5/5 [==============================] - 0s 8ms/step - loss: 208.4139 - mae: 13.4971 - mape: 91.6932\n",
            "Epoch 60/500\n",
            "1/5 [=====>........................] - ETA: 0s - loss: 166.2313 - mae: 12.1500 - mape: 91.1498\n",
            "Epoch 60: loss did not improve from 208.41386\n",
            "5/5 [==============================] - 0s 13ms/step - loss: 208.4139 - mae: 13.4971 - mape: 91.6932\n"
          ]
        },
        {
          "output_type": "execute_result",
          "data": {
            "text/plain": [
              "<keras.callbacks.History at 0x7fc6b4082b80>"
            ]
          },
          "metadata": {},
          "execution_count": 12
        }
      ]
    },
    {
      "cell_type": "code",
      "source": [
        "# model evaluation\n",
        "score = model .evaluate(X_test,Y_test)\n",
        "print(\"Our MSE is {}\".format(score))\n",
        "\n",
        "#square root os MSE:7\n",
        "# if actual answer is 10 then the model predicts +-(6,14)\n",
        "\n",
        "#best :+-2"
      ],
      "metadata": {
        "colab": {
          "base_uri": "https://localhost:8080/"
        },
        "id": "ZJ55pE0-kFr2",
        "outputId": "30335508-e7e1-4eb5-a6fc-5c3321003a5e"
      },
      "execution_count": null,
      "outputs": [
        {
          "output_type": "stream",
          "name": "stdout",
          "text": [
            "2/2 [==============================] - 0s 17ms/step - loss: 169.2718 - mae: 11.9150 - mape: 90.9852\n",
            "Our MSE is [169.27183532714844, 11.914999961853027, 90.98515319824219]\n"
          ]
        }
      ]
    },
    {
      "cell_type": "code",
      "source": [
        "# Predictions\n",
        "# Two ways: using the model\n",
        "expense = [[100, 200, 0]]\n",
        "model.load_weights(\"advertbest.hdf5\")\n",
        "sales = model.predict(expense)\n",
        "\n",
        "print(\"YOU ARE LIKELY TO SELL\", sales)"
      ],
      "metadata": {
        "colab": {
          "base_uri": "https://localhost:8080/"
        },
        "id": "wkclz0KZrvXA",
        "outputId": "634d0ac7-b407-41f0-e004-abaac47bf64e"
      },
      "execution_count": null,
      "outputs": [
        {
          "output_type": "stream",
          "name": "stdout",
          "text": [
            "1/1 [==============================] - 0s 254ms/step\n",
            "YOU ARE LIKELY TO SELL [[1.]]\n"
          ]
        }
      ]
    },
    {
      "cell_type": "code",
      "source": [
        "from tensorflow import keras\n",
        "expense = [[100, 200, 0]]\n",
        "knowledge = keras.models.load_model(\"advertbest.hdf5\")\n",
        "sales = knowledge.predict(expense)\n",
        "\n",
        "\n",
        "print(\"YOU ARE LIKELY TO SELL  {} \".format(sales))"
      ],
      "metadata": {
        "colab": {
          "base_uri": "https://localhost:8080/"
        },
        "id": "u3xDP1tSt8BD",
        "outputId": "05f53838-4a9f-4a4d-81b6-1b5183b98b02"
      },
      "execution_count": null,
      "outputs": [
        {
          "output_type": "stream",
          "name": "stdout",
          "text": [
            "1/1 [==============================] - 0s 236ms/step\n",
            "YOU ARE LIKELY TO SELL  [[1.]] \n"
          ]
        }
      ]
    }
  ]
}